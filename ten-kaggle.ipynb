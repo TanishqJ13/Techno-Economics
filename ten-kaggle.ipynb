{
 "cells": [
  {
   "cell_type": "code",
   "execution_count": 1,
   "id": "soviet-robert",
   "metadata": {
    "_cell_guid": "b1076dfc-b9ad-4769-8c92-a6c4dae69d19",
    "_uuid": "8f2839f25d086af736a60e9eeb907d3b93b6e0e5",
    "execution": {
     "iopub.execute_input": "2021-05-16T18:17:13.484601Z",
     "iopub.status.busy": "2021-05-16T18:17:13.484004Z",
     "iopub.status.idle": "2021-05-16T18:17:32.484186Z",
     "shell.execute_reply": "2021-05-16T18:17:32.484674Z"
    },
    "papermill": {
     "duration": 19.036866,
     "end_time": "2021-05-16T18:17:32.484992",
     "exception": false,
     "start_time": "2021-05-16T18:17:13.448126",
     "status": "completed"
    },
    "tags": []
   },
   "outputs": [
    {
     "name": "stdout",
     "output_type": "stream",
     "text": [
      "/kaggle/input/tendata/Spectrum Database Description.docx\n",
      "/kaggle/input/tendata/Spectrum Database_March 2021.xlsx\n",
      "/kaggle/input/tendata/Spectrum Payments_March 2021.xlsx\n",
      "Collecting xlrd\r\n",
      "  Downloading xlrd-2.0.1-py2.py3-none-any.whl (96 kB)\r\n",
      "\u001b[K     |████████████████████████████████| 96 kB 388 kB/s \r\n",
      "\u001b[?25hInstalling collected packages: xlrd\r\n",
      "Successfully installed xlrd-2.0.1\r\n",
      "Collecting openpyxl\r\n",
      "  Downloading openpyxl-3.0.7-py2.py3-none-any.whl (243 kB)\r\n",
      "\u001b[K     |████████████████████████████████| 243 kB 413 kB/s \r\n",
      "\u001b[?25hCollecting et-xmlfile\r\n",
      "  Downloading et_xmlfile-1.1.0-py3-none-any.whl (4.7 kB)\r\n",
      "Installing collected packages: et-xmlfile, openpyxl\r\n",
      "Successfully installed et-xmlfile-1.1.0 openpyxl-3.0.7\r\n"
     ]
    }
   ],
   "source": [
    "import numpy as np\n",
    "import pandas as pd\n",
    "import os\n",
    "import matplotlib.pyplot as plt\n",
    "import seaborn as sns\n",
    "for dirname, _, filenames in os.walk('/kaggle/input'):\n",
    "    for filename in filenames:\n",
    "        print(os.path.join(dirname, filename))\n",
    "!pip install xlrd\n",
    "!pip install openpyxl"
   ]
  },
  {
   "cell_type": "code",
   "execution_count": 2,
   "id": "complex-connectivity",
   "metadata": {
    "execution": {
     "iopub.execute_input": "2021-05-16T18:17:32.556289Z",
     "iopub.status.busy": "2021-05-16T18:17:32.555584Z",
     "iopub.status.idle": "2021-05-16T18:18:02.438207Z",
     "shell.execute_reply": "2021-05-16T18:18:02.437528Z"
    },
    "papermill": {
     "duration": 29.920826,
     "end_time": "2021-05-16T18:18:02.438353",
     "exception": false,
     "start_time": "2021-05-16T18:17:32.517527",
     "status": "completed"
    },
    "tags": []
   },
   "outputs": [],
   "source": [
    "file1 = '../input/tendata/Spectrum Database_March 2021.xlsx'\n",
    "data_frame_1 = pd.read_excel(file1,sheet_name = 'lots-032021')\n",
    "\n",
    "file2 = '../input/tendata/Spectrum Payments_March 2021.xlsx'\n",
    "data_frame_2 = pd.read_excel(file2,sheet_name = 'Spectrum Payments_March 2021')"
   ]
  },
  {
   "cell_type": "code",
   "execution_count": 3,
   "id": "average-drawing",
   "metadata": {
    "execution": {
     "iopub.execute_input": "2021-05-16T18:18:02.509520Z",
     "iopub.status.busy": "2021-05-16T18:18:02.508526Z",
     "iopub.status.idle": "2021-05-16T18:18:02.511830Z",
     "shell.execute_reply": "2021-05-16T18:18:02.511294Z"
    },
    "papermill": {
     "duration": 0.040232,
     "end_time": "2021-05-16T18:18:02.511999",
     "exception": false,
     "start_time": "2021-05-16T18:18:02.471767",
     "status": "completed"
    },
    "tags": []
   },
   "outputs": [],
   "source": [
    "df1=data_frame_1"
   ]
  },
  {
   "cell_type": "code",
   "execution_count": 4,
   "id": "talented-electric",
   "metadata": {
    "execution": {
     "iopub.execute_input": "2021-05-16T18:18:02.580024Z",
     "iopub.status.busy": "2021-05-16T18:18:02.579401Z",
     "iopub.status.idle": "2021-05-16T18:18:02.581424Z",
     "shell.execute_reply": "2021-05-16T18:18:02.581959Z"
    },
    "papermill": {
     "duration": 0.038291,
     "end_time": "2021-05-16T18:18:02.582122",
     "exception": false,
     "start_time": "2021-05-16T18:18:02.543831",
     "status": "completed"
    },
    "tags": []
   },
   "outputs": [],
   "source": [
    "df2=data_frame_2"
   ]
  },
  {
   "cell_type": "code",
   "execution_count": 5,
   "id": "parental-spare",
   "metadata": {
    "execution": {
     "iopub.execute_input": "2021-05-16T18:18:02.649765Z",
     "iopub.status.busy": "2021-05-16T18:18:02.649121Z",
     "iopub.status.idle": "2021-05-16T18:18:02.655105Z",
     "shell.execute_reply": "2021-05-16T18:18:02.655586Z"
    },
    "papermill": {
     "duration": 0.041756,
     "end_time": "2021-05-16T18:18:02.655748",
     "exception": false,
     "start_time": "2021-05-16T18:18:02.613992",
     "status": "completed"
    },
    "tags": []
   },
   "outputs": [
    {
     "name": "stdout",
     "output_type": "stream",
     "text": [
      "Index(['awardId', 'lotId', 'awardName', 'countryName', 'alpha3code',\n",
      "       'nBidders', 'date', 'awardClassDescription', 'availableSpectrumPaired',\n",
      "       'availableSpectrumUnpaired', 'licenceUse', 'awardComments', 'lotName',\n",
      "       'winner', 'freqBand', 'nationalLicence', 'region', 'blockFreq',\n",
      "       'paired', 'unpaired', 'licenceDuration', 'popCovered',\n",
      "       'reservePriceLocal', 'headlinePriceLocal', 'entrantReserved',\n",
      "       'lotComments'],\n",
      "      dtype='object')\n",
      "Index(['lotId', 'year', 'amount', 'minAmount'], dtype='object')\n"
     ]
    }
   ],
   "source": [
    "print(df1.columns)\n",
    "print(df2.columns)"
   ]
  },
  {
   "cell_type": "code",
   "execution_count": 6,
   "id": "indoor-miller",
   "metadata": {
    "execution": {
     "iopub.execute_input": "2021-05-16T18:18:02.740030Z",
     "iopub.status.busy": "2021-05-16T18:18:02.739379Z",
     "iopub.status.idle": "2021-05-16T18:18:02.831188Z",
     "shell.execute_reply": "2021-05-16T18:18:02.830651Z"
    },
    "papermill": {
     "duration": 0.142799,
     "end_time": "2021-05-16T18:18:02.831323",
     "exception": false,
     "start_time": "2021-05-16T18:18:02.688524",
     "status": "completed"
    },
    "tags": []
   },
   "outputs": [
    {
     "data": {
      "text/html": [
       "<div>\n",
       "<style scoped>\n",
       "    .dataframe tbody tr th:only-of-type {\n",
       "        vertical-align: middle;\n",
       "    }\n",
       "\n",
       "    .dataframe tbody tr th {\n",
       "        vertical-align: top;\n",
       "    }\n",
       "\n",
       "    .dataframe thead th {\n",
       "        text-align: right;\n",
       "    }\n",
       "</style>\n",
       "<table border=\"1\" class=\"dataframe\">\n",
       "  <thead>\n",
       "    <tr style=\"text-align: right;\">\n",
       "      <th></th>\n",
       "      <th>awardId</th>\n",
       "      <th>lotId</th>\n",
       "      <th>awardName</th>\n",
       "      <th>countryName</th>\n",
       "      <th>alpha3code</th>\n",
       "      <th>nBidders</th>\n",
       "      <th>date</th>\n",
       "      <th>awardClassDescription</th>\n",
       "      <th>availableSpectrumPaired</th>\n",
       "      <th>availableSpectrumUnpaired</th>\n",
       "      <th>...</th>\n",
       "      <th>region</th>\n",
       "      <th>blockFreq</th>\n",
       "      <th>paired</th>\n",
       "      <th>unpaired</th>\n",
       "      <th>licenceDuration</th>\n",
       "      <th>popCovered</th>\n",
       "      <th>reservePriceLocal</th>\n",
       "      <th>headlinePriceLocal</th>\n",
       "      <th>entrantReserved</th>\n",
       "      <th>lotComments</th>\n",
       "    </tr>\n",
       "  </thead>\n",
       "  <tbody>\n",
       "    <tr>\n",
       "      <th>0</th>\n",
       "      <td>1</td>\n",
       "      <td>1</td>\n",
       "      <td>PCS 800MHz-1800MHz auction</td>\n",
       "      <td>Australia</td>\n",
       "      <td>AUS</td>\n",
       "      <td>9.0</td>\n",
       "      <td>1998-04-20</td>\n",
       "      <td>Auction - Largely standard SMRA</td>\n",
       "      <td>1490.0</td>\n",
       "      <td>0.0</td>\n",
       "      <td>...</td>\n",
       "      <td>Brisbane</td>\n",
       "      <td>825-830MHz/870-875MHz</td>\n",
       "      <td>10.0</td>\n",
       "      <td>0.0</td>\n",
       "      <td>15.0</td>\n",
       "      <td>1735500.0</td>\n",
       "      <td>867750.0</td>\n",
       "      <td>6137000.0</td>\n",
       "      <td>1.0</td>\n",
       "      <td>NaN</td>\n",
       "    </tr>\n",
       "    <tr>\n",
       "      <th>1</th>\n",
       "      <td>1</td>\n",
       "      <td>2</td>\n",
       "      <td>PCS 800MHz-1800MHz auction</td>\n",
       "      <td>Australia</td>\n",
       "      <td>AUS</td>\n",
       "      <td>9.0</td>\n",
       "      <td>1998-04-20</td>\n",
       "      <td>Auction - Largely standard SMRA</td>\n",
       "      <td>1490.0</td>\n",
       "      <td>0.0</td>\n",
       "      <td>...</td>\n",
       "      <td>Brisbane</td>\n",
       "      <td>830-835MHz/875-880MHz</td>\n",
       "      <td>10.0</td>\n",
       "      <td>0.0</td>\n",
       "      <td>15.0</td>\n",
       "      <td>1735500.0</td>\n",
       "      <td>867750.0</td>\n",
       "      <td>5322000.0</td>\n",
       "      <td>1.0</td>\n",
       "      <td>NaN</td>\n",
       "    </tr>\n",
       "    <tr>\n",
       "      <th>2</th>\n",
       "      <td>1</td>\n",
       "      <td>3</td>\n",
       "      <td>PCS 800MHz-1800MHz auction</td>\n",
       "      <td>Australia</td>\n",
       "      <td>AUS</td>\n",
       "      <td>9.0</td>\n",
       "      <td>1998-04-20</td>\n",
       "      <td>Auction - Largely standard SMRA</td>\n",
       "      <td>1490.0</td>\n",
       "      <td>0.0</td>\n",
       "      <td>...</td>\n",
       "      <td>Brisbane</td>\n",
       "      <td>835-840MHz/880-885MHz</td>\n",
       "      <td>10.0</td>\n",
       "      <td>0.0</td>\n",
       "      <td>15.0</td>\n",
       "      <td>1735500.0</td>\n",
       "      <td>867750.0</td>\n",
       "      <td>7039000.0</td>\n",
       "      <td>0.0</td>\n",
       "      <td>NaN</td>\n",
       "    </tr>\n",
       "    <tr>\n",
       "      <th>3</th>\n",
       "      <td>1</td>\n",
       "      <td>4</td>\n",
       "      <td>PCS 800MHz-1800MHz auction</td>\n",
       "      <td>Australia</td>\n",
       "      <td>AUS</td>\n",
       "      <td>9.0</td>\n",
       "      <td>1998-04-20</td>\n",
       "      <td>Auction - Largely standard SMRA</td>\n",
       "      <td>1490.0</td>\n",
       "      <td>0.0</td>\n",
       "      <td>...</td>\n",
       "      <td>Brisbane</td>\n",
       "      <td>840-845MHz/885-890MHz</td>\n",
       "      <td>10.0</td>\n",
       "      <td>0.0</td>\n",
       "      <td>15.0</td>\n",
       "      <td>1735500.0</td>\n",
       "      <td>867750.0</td>\n",
       "      <td>9902000.0</td>\n",
       "      <td>0.0</td>\n",
       "      <td>NaN</td>\n",
       "    </tr>\n",
       "    <tr>\n",
       "      <th>4</th>\n",
       "      <td>1</td>\n",
       "      <td>5</td>\n",
       "      <td>PCS 800MHz-1800MHz auction</td>\n",
       "      <td>Australia</td>\n",
       "      <td>AUS</td>\n",
       "      <td>9.0</td>\n",
       "      <td>1998-04-20</td>\n",
       "      <td>Auction - Largely standard SMRA</td>\n",
       "      <td>1490.0</td>\n",
       "      <td>0.0</td>\n",
       "      <td>...</td>\n",
       "      <td>Brisbane</td>\n",
       "      <td>1710-1712.5MHz/1805-1807.5MHz</td>\n",
       "      <td>5.0</td>\n",
       "      <td>0.0</td>\n",
       "      <td>15.0</td>\n",
       "      <td>1735500.0</td>\n",
       "      <td>433870.0</td>\n",
       "      <td>954000.0</td>\n",
       "      <td>0.0</td>\n",
       "      <td>NaN</td>\n",
       "    </tr>\n",
       "    <tr>\n",
       "      <th>...</th>\n",
       "      <td>...</td>\n",
       "      <td>...</td>\n",
       "      <td>...</td>\n",
       "      <td>...</td>\n",
       "      <td>...</td>\n",
       "      <td>...</td>\n",
       "      <td>...</td>\n",
       "      <td>...</td>\n",
       "      <td>...</td>\n",
       "      <td>...</td>\n",
       "      <td>...</td>\n",
       "      <td>...</td>\n",
       "      <td>...</td>\n",
       "      <td>...</td>\n",
       "      <td>...</td>\n",
       "      <td>...</td>\n",
       "      <td>...</td>\n",
       "      <td>...</td>\n",
       "      <td>...</td>\n",
       "      <td>...</td>\n",
       "      <td>...</td>\n",
       "    </tr>\n",
       "    <tr>\n",
       "      <th>36579</th>\n",
       "      <td>487</td>\n",
       "      <td>36710</td>\n",
       "      <td>USA Auction 105</td>\n",
       "      <td>United States</td>\n",
       "      <td>USA</td>\n",
       "      <td>271.0</td>\n",
       "      <td>2020-08-25</td>\n",
       "      <td>Auction - Largely standard clock</td>\n",
       "      <td>0.0</td>\n",
       "      <td>70.0</td>\n",
       "      <td>...</td>\n",
       "      <td>St. Thomas</td>\n",
       "      <td>NaN</td>\n",
       "      <td>0.0</td>\n",
       "      <td>10.0</td>\n",
       "      <td>10.0</td>\n",
       "      <td>51634.0</td>\n",
       "      <td>10000.0</td>\n",
       "      <td>24000.0</td>\n",
       "      <td>0.0</td>\n",
       "      <td>NaN</td>\n",
       "    </tr>\n",
       "    <tr>\n",
       "      <th>36580</th>\n",
       "      <td>487</td>\n",
       "      <td>36711</td>\n",
       "      <td>USA Auction 105</td>\n",
       "      <td>United States</td>\n",
       "      <td>USA</td>\n",
       "      <td>271.0</td>\n",
       "      <td>2020-08-25</td>\n",
       "      <td>Auction - Largely standard clock</td>\n",
       "      <td>0.0</td>\n",
       "      <td>70.0</td>\n",
       "      <td>...</td>\n",
       "      <td>St. Thomas</td>\n",
       "      <td>NaN</td>\n",
       "      <td>0.0</td>\n",
       "      <td>10.0</td>\n",
       "      <td>10.0</td>\n",
       "      <td>51634.0</td>\n",
       "      <td>10000.0</td>\n",
       "      <td>24000.0</td>\n",
       "      <td>0.0</td>\n",
       "      <td>NaN</td>\n",
       "    </tr>\n",
       "    <tr>\n",
       "      <th>36581</th>\n",
       "      <td>487</td>\n",
       "      <td>36712</td>\n",
       "      <td>USA Auction 105</td>\n",
       "      <td>United States</td>\n",
       "      <td>USA</td>\n",
       "      <td>271.0</td>\n",
       "      <td>2020-08-25</td>\n",
       "      <td>Auction - Largely standard clock</td>\n",
       "      <td>0.0</td>\n",
       "      <td>70.0</td>\n",
       "      <td>...</td>\n",
       "      <td>St. Thomas</td>\n",
       "      <td>NaN</td>\n",
       "      <td>0.0</td>\n",
       "      <td>10.0</td>\n",
       "      <td>10.0</td>\n",
       "      <td>51634.0</td>\n",
       "      <td>10000.0</td>\n",
       "      <td>24000.0</td>\n",
       "      <td>0.0</td>\n",
       "      <td>NaN</td>\n",
       "    </tr>\n",
       "    <tr>\n",
       "      <th>36582</th>\n",
       "      <td>487</td>\n",
       "      <td>36713</td>\n",
       "      <td>USA Auction 105</td>\n",
       "      <td>United States</td>\n",
       "      <td>USA</td>\n",
       "      <td>271.0</td>\n",
       "      <td>2020-08-25</td>\n",
       "      <td>Auction - Largely standard clock</td>\n",
       "      <td>0.0</td>\n",
       "      <td>70.0</td>\n",
       "      <td>...</td>\n",
       "      <td>St. Thomas</td>\n",
       "      <td>NaN</td>\n",
       "      <td>0.0</td>\n",
       "      <td>10.0</td>\n",
       "      <td>10.0</td>\n",
       "      <td>51634.0</td>\n",
       "      <td>10000.0</td>\n",
       "      <td>24000.0</td>\n",
       "      <td>0.0</td>\n",
       "      <td>NaN</td>\n",
       "    </tr>\n",
       "    <tr>\n",
       "      <th>36583</th>\n",
       "      <td>487</td>\n",
       "      <td>36714</td>\n",
       "      <td>USA Auction 105</td>\n",
       "      <td>United States</td>\n",
       "      <td>USA</td>\n",
       "      <td>271.0</td>\n",
       "      <td>2020-08-25</td>\n",
       "      <td>Auction - Largely standard clock</td>\n",
       "      <td>0.0</td>\n",
       "      <td>70.0</td>\n",
       "      <td>...</td>\n",
       "      <td>St. Thomas</td>\n",
       "      <td>NaN</td>\n",
       "      <td>0.0</td>\n",
       "      <td>10.0</td>\n",
       "      <td>10.0</td>\n",
       "      <td>51634.0</td>\n",
       "      <td>10000.0</td>\n",
       "      <td>24000.0</td>\n",
       "      <td>0.0</td>\n",
       "      <td>NaN</td>\n",
       "    </tr>\n",
       "  </tbody>\n",
       "</table>\n",
       "<p>36584 rows × 26 columns</p>\n",
       "</div>"
      ],
      "text/plain": [
       "       awardId  lotId                   awardName    countryName alpha3code  \\\n",
       "0            1      1  PCS 800MHz-1800MHz auction      Australia        AUS   \n",
       "1            1      2  PCS 800MHz-1800MHz auction      Australia        AUS   \n",
       "2            1      3  PCS 800MHz-1800MHz auction      Australia        AUS   \n",
       "3            1      4  PCS 800MHz-1800MHz auction      Australia        AUS   \n",
       "4            1      5  PCS 800MHz-1800MHz auction      Australia        AUS   \n",
       "...        ...    ...                         ...            ...        ...   \n",
       "36579      487  36710             USA Auction 105  United States        USA   \n",
       "36580      487  36711             USA Auction 105  United States        USA   \n",
       "36581      487  36712             USA Auction 105  United States        USA   \n",
       "36582      487  36713             USA Auction 105  United States        USA   \n",
       "36583      487  36714             USA Auction 105  United States        USA   \n",
       "\n",
       "       nBidders       date             awardClassDescription  \\\n",
       "0           9.0 1998-04-20   Auction - Largely standard SMRA   \n",
       "1           9.0 1998-04-20   Auction - Largely standard SMRA   \n",
       "2           9.0 1998-04-20   Auction - Largely standard SMRA   \n",
       "3           9.0 1998-04-20   Auction - Largely standard SMRA   \n",
       "4           9.0 1998-04-20   Auction - Largely standard SMRA   \n",
       "...         ...        ...                               ...   \n",
       "36579     271.0 2020-08-25  Auction - Largely standard clock   \n",
       "36580     271.0 2020-08-25  Auction - Largely standard clock   \n",
       "36581     271.0 2020-08-25  Auction - Largely standard clock   \n",
       "36582     271.0 2020-08-25  Auction - Largely standard clock   \n",
       "36583     271.0 2020-08-25  Auction - Largely standard clock   \n",
       "\n",
       "       availableSpectrumPaired  availableSpectrumUnpaired  ...      region  \\\n",
       "0                       1490.0                        0.0  ...    Brisbane   \n",
       "1                       1490.0                        0.0  ...    Brisbane   \n",
       "2                       1490.0                        0.0  ...    Brisbane   \n",
       "3                       1490.0                        0.0  ...    Brisbane   \n",
       "4                       1490.0                        0.0  ...    Brisbane   \n",
       "...                        ...                        ...  ...         ...   \n",
       "36579                      0.0                       70.0  ...  St. Thomas   \n",
       "36580                      0.0                       70.0  ...  St. Thomas   \n",
       "36581                      0.0                       70.0  ...  St. Thomas   \n",
       "36582                      0.0                       70.0  ...  St. Thomas   \n",
       "36583                      0.0                       70.0  ...  St. Thomas   \n",
       "\n",
       "                           blockFreq paired unpaired licenceDuration  \\\n",
       "0              825-830MHz/870-875MHz   10.0      0.0            15.0   \n",
       "1              830-835MHz/875-880MHz   10.0      0.0            15.0   \n",
       "2              835-840MHz/880-885MHz   10.0      0.0            15.0   \n",
       "3              840-845MHz/885-890MHz   10.0      0.0            15.0   \n",
       "4      1710-1712.5MHz/1805-1807.5MHz    5.0      0.0            15.0   \n",
       "...                              ...    ...      ...             ...   \n",
       "36579                            NaN    0.0     10.0            10.0   \n",
       "36580                            NaN    0.0     10.0            10.0   \n",
       "36581                            NaN    0.0     10.0            10.0   \n",
       "36582                            NaN    0.0     10.0            10.0   \n",
       "36583                            NaN    0.0     10.0            10.0   \n",
       "\n",
       "       popCovered reservePriceLocal headlinePriceLocal  entrantReserved  \\\n",
       "0       1735500.0          867750.0          6137000.0              1.0   \n",
       "1       1735500.0          867750.0          5322000.0              1.0   \n",
       "2       1735500.0          867750.0          7039000.0              0.0   \n",
       "3       1735500.0          867750.0          9902000.0              0.0   \n",
       "4       1735500.0          433870.0           954000.0              0.0   \n",
       "...           ...               ...                ...              ...   \n",
       "36579     51634.0           10000.0            24000.0              0.0   \n",
       "36580     51634.0           10000.0            24000.0              0.0   \n",
       "36581     51634.0           10000.0            24000.0              0.0   \n",
       "36582     51634.0           10000.0            24000.0              0.0   \n",
       "36583     51634.0           10000.0            24000.0              0.0   \n",
       "\n",
       "       lotComments  \n",
       "0              NaN  \n",
       "1              NaN  \n",
       "2              NaN  \n",
       "3              NaN  \n",
       "4              NaN  \n",
       "...            ...  \n",
       "36579          NaN  \n",
       "36580          NaN  \n",
       "36581          NaN  \n",
       "36582          NaN  \n",
       "36583          NaN  \n",
       "\n",
       "[36584 rows x 26 columns]"
      ]
     },
     "execution_count": 6,
     "metadata": {},
     "output_type": "execute_result"
    }
   ],
   "source": [
    "df1[df1['countryName'] == 'United States']\n",
    "df1"
   ]
  },
  {
   "cell_type": "code",
   "execution_count": 7,
   "id": "supported-shareware",
   "metadata": {
    "execution": {
     "iopub.execute_input": "2021-05-16T18:18:02.907794Z",
     "iopub.status.busy": "2021-05-16T18:18:02.904397Z",
     "iopub.status.idle": "2021-05-16T18:18:02.988209Z",
     "shell.execute_reply": "2021-05-16T18:18:02.987070Z"
    },
    "papermill": {
     "duration": 0.123435,
     "end_time": "2021-05-16T18:18:02.988362",
     "exception": false,
     "start_time": "2021-05-16T18:18:02.864927",
     "status": "completed"
    },
    "tags": []
   },
   "outputs": [],
   "source": [
    "df = pd.merge(df1, df2, on=['lotId','lotId'])"
   ]
  },
  {
   "cell_type": "code",
   "execution_count": 8,
   "id": "foster-reach",
   "metadata": {
    "execution": {
     "iopub.execute_input": "2021-05-16T18:18:03.062495Z",
     "iopub.status.busy": "2021-05-16T18:18:03.061824Z",
     "iopub.status.idle": "2021-05-16T18:18:03.122304Z",
     "shell.execute_reply": "2021-05-16T18:18:03.121594Z"
    },
    "papermill": {
     "duration": 0.099249,
     "end_time": "2021-05-16T18:18:03.122455",
     "exception": false,
     "start_time": "2021-05-16T18:18:03.023206",
     "status": "completed"
    },
    "tags": []
   },
   "outputs": [],
   "source": [
    "df.columns\n",
    "df = df.sort_values(by='date')\n",
    "df['date'] = pd.to_datetime(df['date'])"
   ]
  },
  {
   "cell_type": "code",
   "execution_count": 9,
   "id": "horizontal-pregnancy",
   "metadata": {
    "execution": {
     "iopub.execute_input": "2021-05-16T18:18:03.198237Z",
     "iopub.status.busy": "2021-05-16T18:18:03.197586Z",
     "iopub.status.idle": "2021-05-16T18:18:03.272167Z",
     "shell.execute_reply": "2021-05-16T18:18:03.271588Z"
    },
    "papermill": {
     "duration": 0.114332,
     "end_time": "2021-05-16T18:18:03.272312",
     "exception": false,
     "start_time": "2021-05-16T18:18:03.157980",
     "status": "completed"
    },
    "tags": []
   },
   "outputs": [
    {
     "data": {
      "text/html": [
       "<div>\n",
       "<style scoped>\n",
       "    .dataframe tbody tr th:only-of-type {\n",
       "        vertical-align: middle;\n",
       "    }\n",
       "\n",
       "    .dataframe tbody tr th {\n",
       "        vertical-align: top;\n",
       "    }\n",
       "\n",
       "    .dataframe thead th {\n",
       "        text-align: right;\n",
       "    }\n",
       "</style>\n",
       "<table border=\"1\" class=\"dataframe\">\n",
       "  <thead>\n",
       "    <tr style=\"text-align: right;\">\n",
       "      <th></th>\n",
       "      <th>awardId</th>\n",
       "      <th>lotId</th>\n",
       "      <th>nBidders</th>\n",
       "      <th>availableSpectrumPaired</th>\n",
       "      <th>availableSpectrumUnpaired</th>\n",
       "      <th>nationalLicence</th>\n",
       "      <th>paired</th>\n",
       "      <th>unpaired</th>\n",
       "      <th>licenceDuration</th>\n",
       "      <th>popCovered</th>\n",
       "      <th>reservePriceLocal</th>\n",
       "      <th>headlinePriceLocal</th>\n",
       "      <th>entrantReserved</th>\n",
       "      <th>year</th>\n",
       "      <th>amount</th>\n",
       "      <th>minAmount</th>\n",
       "    </tr>\n",
       "  </thead>\n",
       "  <tbody>\n",
       "    <tr>\n",
       "      <th>count</th>\n",
       "      <td>14138.000000</td>\n",
       "      <td>14138.000000</td>\n",
       "      <td>14131.000000</td>\n",
       "      <td>13533.000000</td>\n",
       "      <td>13709.000000</td>\n",
       "      <td>14138.00000</td>\n",
       "      <td>13598.000000</td>\n",
       "      <td>13612.000000</td>\n",
       "      <td>14105.000000</td>\n",
       "      <td>1.412200e+04</td>\n",
       "      <td>1.309400e+04</td>\n",
       "      <td>1.413800e+04</td>\n",
       "      <td>14088.000000</td>\n",
       "      <td>14138.000000</td>\n",
       "      <td>1.392600e+04</td>\n",
       "      <td>1.405000e+04</td>\n",
       "    </tr>\n",
       "    <tr>\n",
       "      <th>mean</th>\n",
       "      <td>143.077946</td>\n",
       "      <td>7430.689136</td>\n",
       "      <td>48.347605</td>\n",
       "      <td>14213.101000</td>\n",
       "      <td>10625.665986</td>\n",
       "      <td>0.12477</td>\n",
       "      <td>28.252574</td>\n",
       "      <td>4.929121</td>\n",
       "      <td>14.721671</td>\n",
       "      <td>3.493917e+06</td>\n",
       "      <td>4.859000e+09</td>\n",
       "      <td>5.433350e+09</td>\n",
       "      <td>0.014055</td>\n",
       "      <td>4.552412</td>\n",
       "      <td>1.006017e+09</td>\n",
       "      <td>8.838066e+08</td>\n",
       "    </tr>\n",
       "    <tr>\n",
       "      <th>std</th>\n",
       "      <td>55.468171</td>\n",
       "      <td>2917.673618</td>\n",
       "      <td>43.377329</td>\n",
       "      <td>10634.540665</td>\n",
       "      <td>11268.605048</td>\n",
       "      <td>0.33047</td>\n",
       "      <td>26.753174</td>\n",
       "      <td>16.307064</td>\n",
       "      <td>3.287031</td>\n",
       "      <td>1.716447e+07</td>\n",
       "      <td>7.288935e+10</td>\n",
       "      <td>7.300483e+10</td>\n",
       "      <td>0.117720</td>\n",
       "      <td>5.277419</td>\n",
       "      <td>1.366348e+10</td>\n",
       "      <td>1.171114e+10</td>\n",
       "    </tr>\n",
       "    <tr>\n",
       "      <th>min</th>\n",
       "      <td>4.000000</td>\n",
       "      <td>231.000000</td>\n",
       "      <td>0.000000</td>\n",
       "      <td>0.000000</td>\n",
       "      <td>0.000000</td>\n",
       "      <td>0.00000</td>\n",
       "      <td>0.000000</td>\n",
       "      <td>0.000000</td>\n",
       "      <td>5.000000</td>\n",
       "      <td>0.000000e+00</td>\n",
       "      <td>0.000000e+00</td>\n",
       "      <td>0.000000e+00</td>\n",
       "      <td>0.000000</td>\n",
       "      <td>0.000000</td>\n",
       "      <td>0.000000e+00</td>\n",
       "      <td>0.000000e+00</td>\n",
       "    </tr>\n",
       "    <tr>\n",
       "      <th>25%</th>\n",
       "      <td>94.000000</td>\n",
       "      <td>5563.250000</td>\n",
       "      <td>15.500000</td>\n",
       "      <td>1768.000000</td>\n",
       "      <td>0.000000</td>\n",
       "      <td>0.00000</td>\n",
       "      <td>10.000000</td>\n",
       "      <td>0.000000</td>\n",
       "      <td>15.000000</td>\n",
       "      <td>1.968000e+04</td>\n",
       "      <td>2.000000e+03</td>\n",
       "      <td>3.000000e+03</td>\n",
       "      <td>0.000000</td>\n",
       "      <td>0.000000</td>\n",
       "      <td>4.000000e+02</td>\n",
       "      <td>4.000000e+02</td>\n",
       "    </tr>\n",
       "    <tr>\n",
       "      <th>50%</th>\n",
       "      <td>156.000000</td>\n",
       "      <td>8960.500000</td>\n",
       "      <td>50.000000</td>\n",
       "      <td>20440.000000</td>\n",
       "      <td>3400.000000</td>\n",
       "      <td>0.00000</td>\n",
       "      <td>30.000000</td>\n",
       "      <td>0.000000</td>\n",
       "      <td>15.000000</td>\n",
       "      <td>1.129000e+05</td>\n",
       "      <td>7.000000e+03</td>\n",
       "      <td>1.190000e+04</td>\n",
       "      <td>0.000000</td>\n",
       "      <td>2.000000</td>\n",
       "      <td>1.125000e+04</td>\n",
       "      <td>6.850000e+03</td>\n",
       "    </tr>\n",
       "    <tr>\n",
       "      <th>75%</th>\n",
       "      <td>192.000000</td>\n",
       "      <td>9613.000000</td>\n",
       "      <td>50.000000</td>\n",
       "      <td>23200.000000</td>\n",
       "      <td>23200.000000</td>\n",
       "      <td>0.00000</td>\n",
       "      <td>40.000000</td>\n",
       "      <td>0.000000</td>\n",
       "      <td>15.000000</td>\n",
       "      <td>1.325029e+06</td>\n",
       "      <td>8.500000e+04</td>\n",
       "      <td>4.377500e+05</td>\n",
       "      <td>0.000000</td>\n",
       "      <td>9.000000</td>\n",
       "      <td>3.017500e+05</td>\n",
       "      <td>1.000000e+05</td>\n",
       "    </tr>\n",
       "    <tr>\n",
       "      <th>max</th>\n",
       "      <td>362.000000</td>\n",
       "      <td>12938.000000</td>\n",
       "      <td>168.000000</td>\n",
       "      <td>30820.000000</td>\n",
       "      <td>23200.000000</td>\n",
       "      <td>1.00000</td>\n",
       "      <td>370.000000</td>\n",
       "      <td>250.000000</td>\n",
       "      <td>30.000000</td>\n",
       "      <td>2.856204e+08</td>\n",
       "      <td>1.300000e+12</td>\n",
       "      <td>1.300000e+12</td>\n",
       "      <td>1.000000</td>\n",
       "      <td>29.000000</td>\n",
       "      <td>4.680000e+11</td>\n",
       "      <td>2.600000e+11</td>\n",
       "    </tr>\n",
       "  </tbody>\n",
       "</table>\n",
       "</div>"
      ],
      "text/plain": [
       "            awardId         lotId      nBidders  availableSpectrumPaired  \\\n",
       "count  14138.000000  14138.000000  14131.000000             13533.000000   \n",
       "mean     143.077946   7430.689136     48.347605             14213.101000   \n",
       "std       55.468171   2917.673618     43.377329             10634.540665   \n",
       "min        4.000000    231.000000      0.000000                 0.000000   \n",
       "25%       94.000000   5563.250000     15.500000              1768.000000   \n",
       "50%      156.000000   8960.500000     50.000000             20440.000000   \n",
       "75%      192.000000   9613.000000     50.000000             23200.000000   \n",
       "max      362.000000  12938.000000    168.000000             30820.000000   \n",
       "\n",
       "       availableSpectrumUnpaired  nationalLicence        paired      unpaired  \\\n",
       "count               13709.000000      14138.00000  13598.000000  13612.000000   \n",
       "mean                10625.665986          0.12477     28.252574      4.929121   \n",
       "std                 11268.605048          0.33047     26.753174     16.307064   \n",
       "min                     0.000000          0.00000      0.000000      0.000000   \n",
       "25%                     0.000000          0.00000     10.000000      0.000000   \n",
       "50%                  3400.000000          0.00000     30.000000      0.000000   \n",
       "75%                 23200.000000          0.00000     40.000000      0.000000   \n",
       "max                 23200.000000          1.00000    370.000000    250.000000   \n",
       "\n",
       "       licenceDuration    popCovered  reservePriceLocal  headlinePriceLocal  \\\n",
       "count     14105.000000  1.412200e+04       1.309400e+04        1.413800e+04   \n",
       "mean         14.721671  3.493917e+06       4.859000e+09        5.433350e+09   \n",
       "std           3.287031  1.716447e+07       7.288935e+10        7.300483e+10   \n",
       "min           5.000000  0.000000e+00       0.000000e+00        0.000000e+00   \n",
       "25%          15.000000  1.968000e+04       2.000000e+03        3.000000e+03   \n",
       "50%          15.000000  1.129000e+05       7.000000e+03        1.190000e+04   \n",
       "75%          15.000000  1.325029e+06       8.500000e+04        4.377500e+05   \n",
       "max          30.000000  2.856204e+08       1.300000e+12        1.300000e+12   \n",
       "\n",
       "       entrantReserved          year        amount     minAmount  \n",
       "count     14088.000000  14138.000000  1.392600e+04  1.405000e+04  \n",
       "mean          0.014055      4.552412  1.006017e+09  8.838066e+08  \n",
       "std           0.117720      5.277419  1.366348e+10  1.171114e+10  \n",
       "min           0.000000      0.000000  0.000000e+00  0.000000e+00  \n",
       "25%           0.000000      0.000000  4.000000e+02  4.000000e+02  \n",
       "50%           0.000000      2.000000  1.125000e+04  6.850000e+03  \n",
       "75%           0.000000      9.000000  3.017500e+05  1.000000e+05  \n",
       "max           1.000000     29.000000  4.680000e+11  2.600000e+11  "
      ]
     },
     "execution_count": 9,
     "metadata": {},
     "output_type": "execute_result"
    }
   ],
   "source": [
    "start_date = '2000-01-01'\n",
    "end_date = '2008-01-01'\n",
    "mask = (df['date'] > start_date) & (df['date'] <= end_date)\n",
    "dfp = df.loc[mask]\n",
    "dfp.describe()"
   ]
  },
  {
   "cell_type": "code",
   "execution_count": 10,
   "id": "afraid-negotiation",
   "metadata": {
    "execution": {
     "iopub.execute_input": "2021-05-16T18:18:03.350334Z",
     "iopub.status.busy": "2021-05-16T18:18:03.349673Z",
     "iopub.status.idle": "2021-05-16T18:18:03.416079Z",
     "shell.execute_reply": "2021-05-16T18:18:03.416520Z"
    },
    "papermill": {
     "duration": 0.10799,
     "end_time": "2021-05-16T18:18:03.416691",
     "exception": false,
     "start_time": "2021-05-16T18:18:03.308701",
     "status": "completed"
    },
    "tags": []
   },
   "outputs": [
    {
     "data": {
      "text/html": [
       "<div>\n",
       "<style scoped>\n",
       "    .dataframe tbody tr th:only-of-type {\n",
       "        vertical-align: middle;\n",
       "    }\n",
       "\n",
       "    .dataframe tbody tr th {\n",
       "        vertical-align: top;\n",
       "    }\n",
       "\n",
       "    .dataframe thead th {\n",
       "        text-align: right;\n",
       "    }\n",
       "</style>\n",
       "<table border=\"1\" class=\"dataframe\">\n",
       "  <thead>\n",
       "    <tr style=\"text-align: right;\">\n",
       "      <th></th>\n",
       "      <th>awardId</th>\n",
       "      <th>lotId</th>\n",
       "      <th>nBidders</th>\n",
       "      <th>availableSpectrumPaired</th>\n",
       "      <th>availableSpectrumUnpaired</th>\n",
       "      <th>nationalLicence</th>\n",
       "      <th>paired</th>\n",
       "      <th>unpaired</th>\n",
       "      <th>licenceDuration</th>\n",
       "      <th>popCovered</th>\n",
       "      <th>reservePriceLocal</th>\n",
       "      <th>headlinePriceLocal</th>\n",
       "      <th>entrantReserved</th>\n",
       "      <th>year</th>\n",
       "      <th>amount</th>\n",
       "      <th>minAmount</th>\n",
       "    </tr>\n",
       "  </thead>\n",
       "  <tbody>\n",
       "    <tr>\n",
       "      <th>count</th>\n",
       "      <td>14138.000000</td>\n",
       "      <td>14138.000000</td>\n",
       "      <td>14131.000000</td>\n",
       "      <td>13533.000000</td>\n",
       "      <td>13709.000000</td>\n",
       "      <td>14138.00000</td>\n",
       "      <td>13598.000000</td>\n",
       "      <td>13612.000000</td>\n",
       "      <td>14105.000000</td>\n",
       "      <td>1.412200e+04</td>\n",
       "      <td>1.309400e+04</td>\n",
       "      <td>1.413800e+04</td>\n",
       "      <td>14088.000000</td>\n",
       "      <td>14138.000000</td>\n",
       "      <td>1.392600e+04</td>\n",
       "      <td>1.405000e+04</td>\n",
       "    </tr>\n",
       "    <tr>\n",
       "      <th>mean</th>\n",
       "      <td>143.077946</td>\n",
       "      <td>7430.689136</td>\n",
       "      <td>48.347605</td>\n",
       "      <td>14213.101000</td>\n",
       "      <td>10625.665986</td>\n",
       "      <td>0.12477</td>\n",
       "      <td>28.252574</td>\n",
       "      <td>4.929121</td>\n",
       "      <td>14.721671</td>\n",
       "      <td>3.493917e+06</td>\n",
       "      <td>4.859000e+09</td>\n",
       "      <td>5.433350e+09</td>\n",
       "      <td>0.014055</td>\n",
       "      <td>4.552412</td>\n",
       "      <td>1.006017e+09</td>\n",
       "      <td>8.838066e+08</td>\n",
       "    </tr>\n",
       "    <tr>\n",
       "      <th>std</th>\n",
       "      <td>55.468171</td>\n",
       "      <td>2917.673618</td>\n",
       "      <td>43.377329</td>\n",
       "      <td>10634.540665</td>\n",
       "      <td>11268.605048</td>\n",
       "      <td>0.33047</td>\n",
       "      <td>26.753174</td>\n",
       "      <td>16.307064</td>\n",
       "      <td>3.287031</td>\n",
       "      <td>1.716447e+07</td>\n",
       "      <td>7.288935e+10</td>\n",
       "      <td>7.300483e+10</td>\n",
       "      <td>0.117720</td>\n",
       "      <td>5.277419</td>\n",
       "      <td>1.366348e+10</td>\n",
       "      <td>1.171114e+10</td>\n",
       "    </tr>\n",
       "    <tr>\n",
       "      <th>min</th>\n",
       "      <td>4.000000</td>\n",
       "      <td>231.000000</td>\n",
       "      <td>0.000000</td>\n",
       "      <td>0.000000</td>\n",
       "      <td>0.000000</td>\n",
       "      <td>0.00000</td>\n",
       "      <td>0.000000</td>\n",
       "      <td>0.000000</td>\n",
       "      <td>5.000000</td>\n",
       "      <td>0.000000e+00</td>\n",
       "      <td>0.000000e+00</td>\n",
       "      <td>0.000000e+00</td>\n",
       "      <td>0.000000</td>\n",
       "      <td>0.000000</td>\n",
       "      <td>0.000000e+00</td>\n",
       "      <td>0.000000e+00</td>\n",
       "    </tr>\n",
       "    <tr>\n",
       "      <th>25%</th>\n",
       "      <td>94.000000</td>\n",
       "      <td>5563.250000</td>\n",
       "      <td>15.500000</td>\n",
       "      <td>1768.000000</td>\n",
       "      <td>0.000000</td>\n",
       "      <td>0.00000</td>\n",
       "      <td>10.000000</td>\n",
       "      <td>0.000000</td>\n",
       "      <td>15.000000</td>\n",
       "      <td>1.968000e+04</td>\n",
       "      <td>2.000000e+03</td>\n",
       "      <td>3.000000e+03</td>\n",
       "      <td>0.000000</td>\n",
       "      <td>0.000000</td>\n",
       "      <td>4.000000e+02</td>\n",
       "      <td>4.000000e+02</td>\n",
       "    </tr>\n",
       "    <tr>\n",
       "      <th>50%</th>\n",
       "      <td>156.000000</td>\n",
       "      <td>8960.500000</td>\n",
       "      <td>50.000000</td>\n",
       "      <td>20440.000000</td>\n",
       "      <td>3400.000000</td>\n",
       "      <td>0.00000</td>\n",
       "      <td>30.000000</td>\n",
       "      <td>0.000000</td>\n",
       "      <td>15.000000</td>\n",
       "      <td>1.129000e+05</td>\n",
       "      <td>7.000000e+03</td>\n",
       "      <td>1.190000e+04</td>\n",
       "      <td>0.000000</td>\n",
       "      <td>2.000000</td>\n",
       "      <td>1.125000e+04</td>\n",
       "      <td>6.850000e+03</td>\n",
       "    </tr>\n",
       "    <tr>\n",
       "      <th>75%</th>\n",
       "      <td>192.000000</td>\n",
       "      <td>9613.000000</td>\n",
       "      <td>50.000000</td>\n",
       "      <td>23200.000000</td>\n",
       "      <td>23200.000000</td>\n",
       "      <td>0.00000</td>\n",
       "      <td>40.000000</td>\n",
       "      <td>0.000000</td>\n",
       "      <td>15.000000</td>\n",
       "      <td>1.325029e+06</td>\n",
       "      <td>8.500000e+04</td>\n",
       "      <td>4.377500e+05</td>\n",
       "      <td>0.000000</td>\n",
       "      <td>9.000000</td>\n",
       "      <td>3.017500e+05</td>\n",
       "      <td>1.000000e+05</td>\n",
       "    </tr>\n",
       "    <tr>\n",
       "      <th>max</th>\n",
       "      <td>362.000000</td>\n",
       "      <td>12938.000000</td>\n",
       "      <td>168.000000</td>\n",
       "      <td>30820.000000</td>\n",
       "      <td>23200.000000</td>\n",
       "      <td>1.00000</td>\n",
       "      <td>370.000000</td>\n",
       "      <td>250.000000</td>\n",
       "      <td>30.000000</td>\n",
       "      <td>2.856204e+08</td>\n",
       "      <td>1.300000e+12</td>\n",
       "      <td>1.300000e+12</td>\n",
       "      <td>1.000000</td>\n",
       "      <td>29.000000</td>\n",
       "      <td>4.680000e+11</td>\n",
       "      <td>2.600000e+11</td>\n",
       "    </tr>\n",
       "  </tbody>\n",
       "</table>\n",
       "</div>"
      ],
      "text/plain": [
       "            awardId         lotId      nBidders  availableSpectrumPaired  \\\n",
       "count  14138.000000  14138.000000  14131.000000             13533.000000   \n",
       "mean     143.077946   7430.689136     48.347605             14213.101000   \n",
       "std       55.468171   2917.673618     43.377329             10634.540665   \n",
       "min        4.000000    231.000000      0.000000                 0.000000   \n",
       "25%       94.000000   5563.250000     15.500000              1768.000000   \n",
       "50%      156.000000   8960.500000     50.000000             20440.000000   \n",
       "75%      192.000000   9613.000000     50.000000             23200.000000   \n",
       "max      362.000000  12938.000000    168.000000             30820.000000   \n",
       "\n",
       "       availableSpectrumUnpaired  nationalLicence        paired      unpaired  \\\n",
       "count               13709.000000      14138.00000  13598.000000  13612.000000   \n",
       "mean                10625.665986          0.12477     28.252574      4.929121   \n",
       "std                 11268.605048          0.33047     26.753174     16.307064   \n",
       "min                     0.000000          0.00000      0.000000      0.000000   \n",
       "25%                     0.000000          0.00000     10.000000      0.000000   \n",
       "50%                  3400.000000          0.00000     30.000000      0.000000   \n",
       "75%                 23200.000000          0.00000     40.000000      0.000000   \n",
       "max                 23200.000000          1.00000    370.000000    250.000000   \n",
       "\n",
       "       licenceDuration    popCovered  reservePriceLocal  headlinePriceLocal  \\\n",
       "count     14105.000000  1.412200e+04       1.309400e+04        1.413800e+04   \n",
       "mean         14.721671  3.493917e+06       4.859000e+09        5.433350e+09   \n",
       "std           3.287031  1.716447e+07       7.288935e+10        7.300483e+10   \n",
       "min           5.000000  0.000000e+00       0.000000e+00        0.000000e+00   \n",
       "25%          15.000000  1.968000e+04       2.000000e+03        3.000000e+03   \n",
       "50%          15.000000  1.129000e+05       7.000000e+03        1.190000e+04   \n",
       "75%          15.000000  1.325029e+06       8.500000e+04        4.377500e+05   \n",
       "max          30.000000  2.856204e+08       1.300000e+12        1.300000e+12   \n",
       "\n",
       "       entrantReserved          year        amount     minAmount  \n",
       "count     14088.000000  14138.000000  1.392600e+04  1.405000e+04  \n",
       "mean          0.014055      4.552412  1.006017e+09  8.838066e+08  \n",
       "std           0.117720      5.277419  1.366348e+10  1.171114e+10  \n",
       "min           0.000000      0.000000  0.000000e+00  0.000000e+00  \n",
       "25%           0.000000      0.000000  4.000000e+02  4.000000e+02  \n",
       "50%           0.000000      2.000000  1.125000e+04  6.850000e+03  \n",
       "75%           0.000000      9.000000  3.017500e+05  1.000000e+05  \n",
       "max           1.000000     29.000000  4.680000e+11  2.600000e+11  "
      ]
     },
     "execution_count": 10,
     "metadata": {},
     "output_type": "execute_result"
    }
   ],
   "source": [
    "start_date = '2000-01-01'\n",
    "end_date = '2008-01-01'\n",
    "mask = (df['date'] > start_date) & (df['date'] <= end_date)\n",
    "dfp = df.loc[mask]\n",
    "dfp.describe()"
   ]
  },
  {
   "cell_type": "code",
   "execution_count": 11,
   "id": "anticipated-dublin",
   "metadata": {
    "execution": {
     "iopub.execute_input": "2021-05-16T18:18:03.492063Z",
     "iopub.status.busy": "2021-05-16T18:18:03.491070Z",
     "iopub.status.idle": "2021-05-16T18:18:03.494983Z",
     "shell.execute_reply": "2021-05-16T18:18:03.495518Z"
    },
    "papermill": {
     "duration": 0.04377,
     "end_time": "2021-05-16T18:18:03.495684",
     "exception": false,
     "start_time": "2021-05-16T18:18:03.451914",
     "status": "completed"
    },
    "tags": []
   },
   "outputs": [],
   "source": [
    "# dfp['']\n"
   ]
  },
  {
   "cell_type": "code",
   "execution_count": null,
   "id": "russian-campaign",
   "metadata": {
    "papermill": {
     "duration": 0.036106,
     "end_time": "2021-05-16T18:18:03.568202",
     "exception": false,
     "start_time": "2021-05-16T18:18:03.532096",
     "status": "completed"
    },
    "tags": []
   },
   "outputs": [],
   "source": []
  },
  {
   "cell_type": "code",
   "execution_count": 12,
   "id": "chemical-trainer",
   "metadata": {
    "execution": {
     "iopub.execute_input": "2021-05-16T18:18:03.646174Z",
     "iopub.status.busy": "2021-05-16T18:18:03.645140Z",
     "iopub.status.idle": "2021-05-16T18:18:03.649677Z",
     "shell.execute_reply": "2021-05-16T18:18:03.648985Z"
    },
    "papermill": {
     "duration": 0.044205,
     "end_time": "2021-05-16T18:18:03.649819",
     "exception": false,
     "start_time": "2021-05-16T18:18:03.605614",
     "status": "completed"
    },
    "tags": []
   },
   "outputs": [],
   "source": [
    "# sns.pairplot(df, hue=\"headlinePriceLocal\")"
   ]
  },
  {
   "cell_type": "code",
   "execution_count": 13,
   "id": "czech-carbon",
   "metadata": {
    "execution": {
     "iopub.execute_input": "2021-05-16T18:18:03.745055Z",
     "iopub.status.busy": "2021-05-16T18:18:03.744380Z",
     "iopub.status.idle": "2021-05-16T18:18:04.145665Z",
     "shell.execute_reply": "2021-05-16T18:18:04.145084Z"
    },
    "papermill": {
     "duration": 0.459045,
     "end_time": "2021-05-16T18:18:04.145814",
     "exception": false,
     "start_time": "2021-05-16T18:18:03.686769",
     "status": "completed"
    },
    "tags": []
   },
   "outputs": [
    {
     "data": {
      "text/plain": [
       "(array([10592., 10957., 11323., 11688., 12053., 12418., 12784., 13149.,\n",
       "        13514., 13879.]),\n",
       " [Text(0, 0, ''),\n",
       "  Text(0, 0, ''),\n",
       "  Text(0, 0, ''),\n",
       "  Text(0, 0, ''),\n",
       "  Text(0, 0, ''),\n",
       "  Text(0, 0, ''),\n",
       "  Text(0, 0, ''),\n",
       "  Text(0, 0, ''),\n",
       "  Text(0, 0, ''),\n",
       "  Text(0, 0, '')])"
      ]
     },
     "execution_count": 13,
     "metadata": {},
     "output_type": "execute_result"
    },
    {
     "data": {
      "image/png": "[encoded data removed]",
      "text/plain": [
       "<Figure size 2160x2160 with 1 Axes>"
      ]
     },
     "metadata": {
      "needs_background": "light"
     },
     "output_type": "display_data"
    }
   ],
   "source": [
    "# dfp.dropna(inplace=True,subset=['reservePriceLocal'])\n",
    "fig, ax = plt.subplots(figsize=(30, 30))\n",
    "plt.plot(dfp['date'], dfp['reservePriceLocal'])\n",
    "plt.xticks(rotation='vertical')"
   ]
  },
  {
   "cell_type": "code",
   "execution_count": 14,
   "id": "neither-contrast",
   "metadata": {
    "execution": {
     "iopub.execute_input": "2021-05-16T18:18:04.253736Z",
     "iopub.status.busy": "2021-05-16T18:18:04.252976Z",
     "iopub.status.idle": "2021-05-16T18:18:04.608137Z",
     "shell.execute_reply": "2021-05-16T18:18:04.607486Z"
    },
    "papermill": {
     "duration": 0.422869,
     "end_time": "2021-05-16T18:18:04.608277",
     "exception": false,
     "start_time": "2021-05-16T18:18:04.185408",
     "status": "completed"
    },
    "tags": []
   },
   "outputs": [
    {
     "data": {
      "text/plain": [
       "(array([10592., 10957., 11323., 11688., 12053., 12418., 12784., 13149.,\n",
       "        13514., 13879.]),\n",
       " [Text(0, 0, ''),\n",
       "  Text(0, 0, ''),\n",
       "  Text(0, 0, ''),\n",
       "  Text(0, 0, ''),\n",
       "  Text(0, 0, ''),\n",
       "  Text(0, 0, ''),\n",
       "  Text(0, 0, ''),\n",
       "  Text(0, 0, ''),\n",
       "  Text(0, 0, ''),\n",
       "  Text(0, 0, '')])"
      ]
     },
     "execution_count": 14,
     "metadata": {},
     "output_type": "execute_result"
    },
    {
     "data": {
      "image/png": "[encoded data removed]",
      "text/plain": [
       "<Figure size 2160x2160 with 1 Axes>"
      ]
     },
     "metadata": {
      "needs_background": "light"
     },
     "output_type": "display_data"
    }
   ],
   "source": [
    "# dfp.dropna(inplace=True,subset=['reservePriceLocal'])\n",
    "fig, ax = plt.subplots(figsize=(30, 30))\n",
    "plt.plot(dfp['date'], dfp['headlinePriceLocal'])\n",
    "plt.xticks(rotation='vertical')"
   ]
  },
  {
   "cell_type": "code",
   "execution_count": 15,
   "id": "cleared-tutorial",
   "metadata": {
    "execution": {
     "iopub.execute_input": "2021-05-16T18:18:04.698700Z",
     "iopub.status.busy": "2021-05-16T18:18:04.698031Z",
     "iopub.status.idle": "2021-05-16T18:18:05.085141Z",
     "shell.execute_reply": "2021-05-16T18:18:05.084595Z"
    },
    "papermill": {
     "duration": 0.435779,
     "end_time": "2021-05-16T18:18:05.085280",
     "exception": false,
     "start_time": "2021-05-16T18:18:04.649501",
     "status": "completed"
    },
    "tags": []
   },
   "outputs": [
    {
     "name": "stderr",
     "output_type": "stream",
     "text": [
      "/opt/conda/lib/python3.7/site-packages/pandas/core/series.py:4466: SettingWithCopyWarning: \n",
      "A value is trying to be set on a copy of a slice from a DataFrame\n",
      "\n",
      "See the caveats in the documentation: https://pandas.pydata.org/pandas-docs/stable/user_guide/indexing.html#returning-a-view-versus-a-copy\n",
      "  downcast=downcast,\n"
     ]
    },
    {
     "data": {
      "text/plain": [
       "<matplotlib.legend.Legend at 0x7fa84cb1d190>"
      ]
     },
     "execution_count": 15,
     "metadata": {},
     "output_type": "execute_result"
    },
    {
     "data": {
      "image/png": "[encoded data removed]",
      "text/plain": [
       "<Figure size 1440x1440 with 1 Axes>"
      ]
     },
     "metadata": {
      "needs_background": "light"
     },
     "output_type": "display_data"
    }
   ],
   "source": [
    "start_date = '2008-01-01'\n",
    "end_date = '2021-01-01'\n",
    "mask = (df['date'] > start_date) & (df['date'] <= end_date)\n",
    "dfp = df.loc[mask]\n",
    "dfp.describe()\n",
    "\n",
    "dfp['reservePriceLocal'].fillna(value=0,inplace=True)\n",
    "dfp['headlinePriceLocal'].fillna(value=0,inplace=True)\n",
    "# dfp.dropna(inplace=True,subset=['headlinePriceLocal'])\n",
    "\n",
    "fig, ax = plt.subplots(figsize=(20, 20))\n",
    "\n",
    "plt.plot(dfp['date'], dfp['headlinePriceLocal'])\n",
    "plt.plot(dfp['date'], dfp['reservePriceLocal'])\n",
    "\n",
    "plt.xticks(rotation='vertical')\n",
    "plt.legend(['headlinePriceLocal','reservePriceLocal'])\n",
    "# plt.legend(['reservePriceLocal','headlinePriceLocal'])"
   ]
  },
  {
   "cell_type": "code",
   "execution_count": 16,
   "id": "saved-perspective",
   "metadata": {
    "execution": {
     "iopub.execute_input": "2021-05-16T18:18:05.177408Z",
     "iopub.status.busy": "2021-05-16T18:18:05.176669Z",
     "iopub.status.idle": "2021-05-16T18:18:05.507021Z",
     "shell.execute_reply": "2021-05-16T18:18:05.507519Z"
    },
    "papermill": {
     "duration": 0.377227,
     "end_time": "2021-05-16T18:18:05.507683",
     "exception": false,
     "start_time": "2021-05-16T18:18:05.130456",
     "status": "completed"
    },
    "tags": []
   },
   "outputs": [
    {
     "name": "stderr",
     "output_type": "stream",
     "text": [
      "/opt/conda/lib/python3.7/site-packages/pandas/core/series.py:4466: SettingWithCopyWarning: \n",
      "A value is trying to be set on a copy of a slice from a DataFrame\n",
      "\n",
      "See the caveats in the documentation: https://pandas.pydata.org/pandas-docs/stable/user_guide/indexing.html#returning-a-view-versus-a-copy\n",
      "  downcast=downcast,\n"
     ]
    },
    {
     "data": {
      "text/plain": [
       "<matplotlib.legend.Legend at 0x7fa84cc6bad0>"
      ]
     },
     "execution_count": 16,
     "metadata": {},
     "output_type": "execute_result"
    },
    {
     "data": {
      "image/png": "[encoded data removed]",
      "text/plain": [
       "<Figure size 1440x1440 with 1 Axes>"
      ]
     },
     "metadata": {
      "needs_background": "light"
     },
     "output_type": "display_data"
    }
   ],
   "source": [
    "dfp['reservePriceLocal'].fillna(value=0,inplace=True)\n",
    "dfp['headlinePriceLocal'].fillna(value=0,inplace=True)\n",
    "# dfp.dropna(inplace=True,subset=['headlinePriceLocal'])\n",
    "\n",
    "fig, ax = plt.subplots(figsize=(20, 20))\n",
    "\n",
    "plt.plot(dfp['date'], dfp['headlinePriceLocal'])\n",
    "plt.plot(dfp['date'], dfp['reservePriceLocal'])\n",
    "\n",
    "plt.xticks(rotation='vertical')\n",
    "plt.legend(['headlinePriceLocal','reservePriceLocal'])\n",
    "# plt.legend(['reservePriceLocal','headlinePriceLocal'])"
   ]
  },
  {
   "cell_type": "code",
   "execution_count": 17,
   "id": "infrared-marble",
   "metadata": {
    "execution": {
     "iopub.execute_input": "2021-05-16T18:18:05.604482Z",
     "iopub.status.busy": "2021-05-16T18:18:05.603800Z",
     "iopub.status.idle": "2021-05-16T18:18:05.607005Z",
     "shell.execute_reply": "2021-05-16T18:18:05.607589Z"
    },
    "papermill": {
     "duration": 0.053609,
     "end_time": "2021-05-16T18:18:05.607745",
     "exception": false,
     "start_time": "2021-05-16T18:18:05.554136",
     "status": "completed"
    },
    "tags": []
   },
   "outputs": [],
   "source": [
    "# # dfn.dropna(inplace=True,subset=['headlinePriceLocal'])\n",
    "# fig, ax = plt.subplots(figsize=(30, 30))\n",
    "# plt.plot(dfn['date'], dfn['headlinePriceLocal'])\n",
    "# plt.xticks(rotation='vertical')"
   ]
  },
  {
   "cell_type": "code",
   "execution_count": 18,
   "id": "brutal-printer",
   "metadata": {
    "execution": {
     "iopub.execute_input": "2021-05-16T18:18:05.710267Z",
     "iopub.status.busy": "2021-05-16T18:18:05.709614Z",
     "iopub.status.idle": "2021-05-16T18:18:05.713054Z",
     "shell.execute_reply": "2021-05-16T18:18:05.713571Z"
    },
    "papermill": {
     "duration": 0.058675,
     "end_time": "2021-05-16T18:18:05.713737",
     "exception": false,
     "start_time": "2021-05-16T18:18:05.655062",
     "status": "completed"
    },
    "tags": []
   },
   "outputs": [],
   "source": [
    "# fig, ax = plt.subplots(figsize=(30, 30))\n",
    "# plt.plot(dfn['date'], dfn['reservePriceLocal'])\n",
    "# plt.xticks(rotation='vertical')\n"
   ]
  },
  {
   "cell_type": "code",
   "execution_count": 19,
   "id": "historical-annual",
   "metadata": {
    "execution": {
     "iopub.execute_input": "2021-05-16T18:18:05.811553Z",
     "iopub.status.busy": "2021-05-16T18:18:05.810955Z",
     "iopub.status.idle": "2021-05-16T18:18:05.815671Z",
     "shell.execute_reply": "2021-05-16T18:18:05.815020Z"
    },
    "papermill": {
     "duration": 0.054809,
     "end_time": "2021-05-16T18:18:05.815804",
     "exception": false,
     "start_time": "2021-05-16T18:18:05.760995",
     "status": "completed"
    },
    "tags": []
   },
   "outputs": [],
   "source": [
    "# dfn['reservePriceLocal'].fillna(value=0,inplace=True)\n",
    "# dfn['headlinePriceLocal'].fillna(value=0,inplace=True)\n",
    "# fig, ax = plt.subplots(figsize=(30, 30))\n",
    "# plt.plot(dfn['date'], dfn['headlinePriceLocal'])\n",
    "# plt.plot(dfn['date'], dfn['reservePriceLocal'])\n",
    "# plt.xticks(rotation='vertical')"
   ]
  },
  {
   "cell_type": "code",
   "execution_count": 20,
   "id": "legal-sending",
   "metadata": {
    "execution": {
     "iopub.execute_input": "2021-05-16T18:18:05.913878Z",
     "iopub.status.busy": "2021-05-16T18:18:05.913276Z",
     "iopub.status.idle": "2021-05-16T18:18:05.989874Z",
     "shell.execute_reply": "2021-05-16T18:18:05.989350Z"
    },
    "papermill": {
     "duration": 0.126695,
     "end_time": "2021-05-16T18:18:05.990029",
     "exception": false,
     "start_time": "2021-05-16T18:18:05.863334",
     "status": "completed"
    },
    "tags": []
   },
   "outputs": [
    {
     "data": {
      "text/plain": [
       "awardId                          0\n",
       "lotId                            0\n",
       "awardName                        0\n",
       "countryName                      0\n",
       "alpha3code                       0\n",
       "nBidders                      2111\n",
       "date                             0\n",
       "awardClassDescription            0\n",
       "availableSpectrumPaired       2404\n",
       "availableSpectrumUnpaired     1869\n",
       "licenceUse                    2269\n",
       "awardComments                  494\n",
       "lotName                       4134\n",
       "winner                           3\n",
       "freqBand                         5\n",
       "nationalLicence                  0\n",
       "region                          50\n",
       "blockFreq                    27773\n",
       "paired                        1922\n",
       "unpaired                      2009\n",
       "licenceDuration                372\n",
       "popCovered                     638\n",
       "reservePriceLocal             1658\n",
       "headlinePriceLocal             506\n",
       "entrantReserved                841\n",
       "lotComments                  39717\n",
       "year                             0\n",
       "amount                         292\n",
       "minAmount                     1140\n",
       "dtype: int64"
      ]
     },
     "execution_count": 20,
     "metadata": {},
     "output_type": "execute_result"
    }
   ],
   "source": [
    "df.isnull().sum(axis = 0)\n",
    "# df[]"
   ]
  },
  {
   "cell_type": "code",
   "execution_count": 21,
   "id": "geological-executive",
   "metadata": {
    "execution": {
     "iopub.execute_input": "2021-05-16T18:18:06.091695Z",
     "iopub.status.busy": "2021-05-16T18:18:06.091024Z",
     "iopub.status.idle": "2021-05-16T18:18:06.097557Z",
     "shell.execute_reply": "2021-05-16T18:18:06.098018Z"
    },
    "papermill": {
     "duration": 0.06063,
     "end_time": "2021-05-16T18:18:06.098191",
     "exception": false,
     "start_time": "2021-05-16T18:18:06.037561",
     "status": "completed"
    },
    "tags": []
   },
   "outputs": [
    {
     "data": {
      "text/plain": [
       "array([8.00000000e+07, 4.70010000e+07, 4.75100000e+07, ...,\n",
       "       1.25102515e+08, 1.33159181e+08, 4.00236722e+08])"
      ]
     },
     "execution_count": 21,
     "metadata": {},
     "output_type": "execute_result"
    }
   ],
   "source": [
    "(df['amount'].unique())"
   ]
  },
  {
   "cell_type": "code",
   "execution_count": 22,
   "id": "silent-ghost",
   "metadata": {
    "execution": {
     "iopub.execute_input": "2021-05-16T18:18:06.204160Z",
     "iopub.status.busy": "2021-05-16T18:18:06.203458Z",
     "iopub.status.idle": "2021-05-16T18:18:06.537592Z",
     "shell.execute_reply": "2021-05-16T18:18:06.538145Z"
    },
    "papermill": {
     "duration": 0.391287,
     "end_time": "2021-05-16T18:18:06.538313",
     "exception": false,
     "start_time": "2021-05-16T18:18:06.147026",
     "status": "completed"
    },
    "tags": []
   },
   "outputs": [
    {
     "name": "stderr",
     "output_type": "stream",
     "text": [
      "/opt/conda/lib/python3.7/site-packages/pandas/core/series.py:4466: SettingWithCopyWarning: \n",
      "A value is trying to be set on a copy of a slice from a DataFrame\n",
      "\n",
      "See the caveats in the documentation: https://pandas.pydata.org/pandas-docs/stable/user_guide/indexing.html#returning-a-view-versus-a-copy\n",
      "  downcast=downcast,\n"
     ]
    },
    {
     "data": {
      "text/plain": [
       "<matplotlib.legend.Legend at 0x7fa84cc6b750>"
      ]
     },
     "execution_count": 22,
     "metadata": {},
     "output_type": "execute_result"
    },
    {
     "data": {
      "image/png": "[encoded data removed]",
      "text/plain": [
       "<Figure size 1440x1440 with 1 Axes>"
      ]
     },
     "metadata": {
      "needs_background": "light"
     },
     "output_type": "display_data"
    }
   ],
   "source": [
    "dfp['paired'].fillna(value=dfp['paired'].mean(axis=0),inplace=True)\n",
    "dfp['unpaired'].fillna(value=dfp['unpaired'].mean(axis=0),inplace=True)\n",
    "fig, ax = plt.subplots(figsize=(20, 20))\n",
    "plt.plot(dfp['date'], dfp['paired'])\n",
    "plt.plot(dfp['date'], dfp['unpaired'])\n",
    "plt.xticks(rotation='vertical')\n",
    "plt.legend(['headlinePriceLocal','reservePriceLocal'])\n",
    "# plt.legend(['reservePriceLocal','headlinePriceLocal'])"
   ]
  },
  {
   "cell_type": "code",
   "execution_count": 23,
   "id": "inner-income",
   "metadata": {
    "execution": {
     "iopub.execute_input": "2021-05-16T18:18:06.647212Z",
     "iopub.status.busy": "2021-05-16T18:18:06.646314Z",
     "iopub.status.idle": "2021-05-16T18:18:06.648908Z",
     "shell.execute_reply": "2021-05-16T18:18:06.649464Z"
    },
    "papermill": {
     "duration": 0.058835,
     "end_time": "2021-05-16T18:18:06.649645",
     "exception": false,
     "start_time": "2021-05-16T18:18:06.590810",
     "status": "completed"
    },
    "tags": []
   },
   "outputs": [],
   "source": [
    "# dfn['paired'].fillna(value=dfn['paired'].mean(axis=0),inplace=True)\n",
    "# dfn['unpaired'].fillna(value=dfn['unpaired'].mean(axis=0),inplace=True)\n",
    "# fig, ax = plt.subplots(figsize=(30, 30))\n",
    "# plt.plot(dfn['date'], dfn['paired'])\n",
    "# plt.plot(dfn['date'], dfn['unpaired'])\n",
    "# plt.xticks(rotation='vertical')"
   ]
  },
  {
   "cell_type": "code",
   "execution_count": 24,
   "id": "private-beverage",
   "metadata": {
    "execution": {
     "iopub.execute_input": "2021-05-16T18:18:06.766459Z",
     "iopub.status.busy": "2021-05-16T18:18:06.765701Z",
     "iopub.status.idle": "2021-05-16T18:18:06.831416Z",
     "shell.execute_reply": "2021-05-16T18:18:06.831905Z"
    },
    "papermill": {
     "duration": 0.129593,
     "end_time": "2021-05-16T18:18:06.832119",
     "exception": false,
     "start_time": "2021-05-16T18:18:06.702526",
     "status": "completed"
    },
    "tags": []
   },
   "outputs": [
    {
     "name": "stderr",
     "output_type": "stream",
     "text": [
      "/opt/conda/lib/python3.7/site-packages/pandas/core/series.py:4466: SettingWithCopyWarning: \n",
      "A value is trying to be set on a copy of a slice from a DataFrame\n",
      "\n",
      "See the caveats in the documentation: https://pandas.pydata.org/pandas-docs/stable/user_guide/indexing.html#returning-a-view-versus-a-copy\n",
      "  downcast=downcast,\n",
      "/opt/conda/lib/python3.7/site-packages/pandas/core/frame.py:4312: SettingWithCopyWarning: \n",
      "A value is trying to be set on a copy of a slice from a DataFrame\n",
      "\n",
      "See the caveats in the documentation: https://pandas.pydata.org/pandas-docs/stable/user_guide/indexing.html#returning-a-view-versus-a-copy\n",
      "  errors=errors,\n"
     ]
    }
   ],
   "source": [
    "start_date = '2000-01-01'\n",
    "end_date = '2012-01-01'\n",
    "mask = (df['date'] > start_date) & (df['date'] <= end_date)\n",
    "data_2000_2012=df.loc[mask]\n",
    "data_2000_2012.describe()\n",
    "\n",
    "#MEAN\n",
    "data_2000_2012['paired'].fillna(value=data_2000_2012['paired'].mean(axis=0),inplace=True)\n",
    "data_2000_2012['unpaired'].fillna(value=data_2000_2012['unpaired'].mean(axis=0),inplace=True)\n",
    "data_2000_2012['nBidders'].fillna(value=data_2000_2012['nBidders'].mean(axis=0),inplace=True)\n",
    "data_2000_2012['licenceDuration'].fillna(value=data_2000_2012['licenceDuration'].mean(axis=0),inplace=True)\n",
    "data_2000_2012['popCovered'].fillna(value=data_2000_2012['popCovered'].mean(axis=0),inplace=True)\n",
    "\n",
    "#ZERO\n",
    "data_2000_2012['reservePriceLocal'].fillna(value=0,inplace=True)\n",
    "data_2000_2012['headlinePriceLocal'].fillna(value=0,inplace=True)\n",
    "data_2000_2012['availableSpectrumPaired'].fillna(value=0,inplace=True)\n",
    "data_2000_2012['availableSpectrumUnpaired'].fillna(value=0,inplace=True)\n",
    "\n",
    "data_2000_2012['entrantReserved'].fillna(value=-1,inplace=True)\n",
    "data_2000_2012['licenceUse'].fillna(value='other',inplace=True)\n",
    "data_2000_2012['region'].fillna(value='ndf',inplace=True)\n",
    "\n",
    "data_2000_2012.drop(['lotName', 'awardComments','blockFreq','lotComments','amount','minAmount'], axis=1,inplace=True)"
   ]
  },
  {
   "cell_type": "code",
   "execution_count": 25,
   "id": "standing-stockholm",
   "metadata": {
    "execution": {
     "iopub.execute_input": "2021-05-16T18:18:06.957023Z",
     "iopub.status.busy": "2021-05-16T18:18:06.956332Z",
     "iopub.status.idle": "2021-05-16T18:18:07.000511Z",
     "shell.execute_reply": "2021-05-16T18:18:07.001047Z"
    },
    "papermill": {
     "duration": 0.116112,
     "end_time": "2021-05-16T18:18:07.001216",
     "exception": false,
     "start_time": "2021-05-16T18:18:06.885104",
     "status": "completed"
    },
    "tags": []
   },
   "outputs": [
    {
     "name": "stderr",
     "output_type": "stream",
     "text": [
      "/opt/conda/lib/python3.7/site-packages/ipykernel_launcher.py:2: SettingWithCopyWarning: \n",
      "A value is trying to be set on a copy of a slice from a DataFrame\n",
      "\n",
      "See the caveats in the documentation: https://pandas.pydata.org/pandas-docs/stable/user_guide/indexing.html#returning-a-view-versus-a-copy\n",
      "  \n"
     ]
    }
   ],
   "source": [
    "data_2000_2012.isnull().sum(axis = 0)\n",
    "data_2000_2012.dropna(inplace=True)"
   ]
  },
  {
   "cell_type": "code",
   "execution_count": 26,
   "id": "laden-badge",
   "metadata": {
    "execution": {
     "iopub.execute_input": "2021-05-16T18:18:07.125295Z",
     "iopub.status.busy": "2021-05-16T18:18:07.124309Z",
     "iopub.status.idle": "2021-05-16T18:18:07.133041Z",
     "shell.execute_reply": "2021-05-16T18:18:07.132525Z"
    },
    "papermill": {
     "duration": 0.08082,
     "end_time": "2021-05-16T18:18:07.133179",
     "exception": false,
     "start_time": "2021-05-16T18:18:07.052359",
     "status": "completed"
    },
    "tags": []
   },
   "outputs": [
    {
     "data": {
      "text/plain": [
       "awardId                      0\n",
       "lotId                        0\n",
       "awardName                    0\n",
       "countryName                  0\n",
       "alpha3code                   0\n",
       "nBidders                     0\n",
       "date                         0\n",
       "awardClassDescription        0\n",
       "availableSpectrumPaired      0\n",
       "availableSpectrumUnpaired    0\n",
       "licenceUse                   0\n",
       "winner                       0\n",
       "freqBand                     0\n",
       "nationalLicence              0\n",
       "region                       0\n",
       "paired                       0\n",
       "unpaired                     0\n",
       "licenceDuration              0\n",
       "popCovered                   0\n",
       "reservePriceLocal            0\n",
       "headlinePriceLocal           0\n",
       "entrantReserved              0\n",
       "year                         0\n",
       "dtype: int64"
      ]
     },
     "execution_count": 26,
     "metadata": {},
     "output_type": "execute_result"
    }
   ],
   "source": [
    "data_2000_2012.isnull().sum(axis = 0)"
   ]
  },
  {
   "cell_type": "code",
   "execution_count": 27,
   "id": "eligible-fantasy",
   "metadata": {
    "execution": {
     "iopub.execute_input": "2021-05-16T18:18:07.245695Z",
     "iopub.status.busy": "2021-05-16T18:18:07.244990Z",
     "iopub.status.idle": "2021-05-16T18:18:07.247599Z",
     "shell.execute_reply": "2021-05-16T18:18:07.248201Z"
    },
    "papermill": {
     "duration": 0.063055,
     "end_time": "2021-05-16T18:18:07.248387",
     "exception": false,
     "start_time": "2021-05-16T18:18:07.185332",
     "status": "completed"
    },
    "tags": []
   },
   "outputs": [
    {
     "data": {
      "text/plain": [
       "awardId                               int64\n",
       "lotId                                 int64\n",
       "awardName                            object\n",
       "countryName                          object\n",
       "alpha3code                           object\n",
       "nBidders                            float64\n",
       "date                         datetime64[ns]\n",
       "awardClassDescription                object\n",
       "availableSpectrumPaired             float64\n",
       "availableSpectrumUnpaired           float64\n",
       "licenceUse                           object\n",
       "winner                               object\n",
       "freqBand                             object\n",
       "nationalLicence                       int64\n",
       "region                               object\n",
       "paired                              float64\n",
       "unpaired                            float64\n",
       "licenceDuration                     float64\n",
       "popCovered                          float64\n",
       "reservePriceLocal                   float64\n",
       "headlinePriceLocal                  float64\n",
       "entrantReserved                     float64\n",
       "year                                float64\n",
       "dtype: object"
      ]
     },
     "execution_count": 27,
     "metadata": {},
     "output_type": "execute_result"
    }
   ],
   "source": [
    "data_2000_2012.dtypes"
   ]
  },
  {
   "cell_type": "code",
   "execution_count": 28,
   "id": "facial-laptop",
   "metadata": {
    "execution": {
     "iopub.execute_input": "2021-05-16T18:18:07.357723Z",
     "iopub.status.busy": "2021-05-16T18:18:07.357090Z",
     "iopub.status.idle": "2021-05-16T18:18:07.594869Z",
     "shell.execute_reply": "2021-05-16T18:18:07.593809Z"
    },
    "papermill": {
     "duration": 0.293124,
     "end_time": "2021-05-16T18:18:07.595095",
     "exception": false,
     "start_time": "2021-05-16T18:18:07.301971",
     "status": "completed"
    },
    "tags": []
   },
   "outputs": [
    {
     "name": "stderr",
     "output_type": "stream",
     "text": [
      "/opt/conda/lib/python3.7/site-packages/ipykernel_launcher.py:11: SettingWithCopyWarning: \n",
      "A value is trying to be set on a copy of a slice from a DataFrame.\n",
      "Try using .loc[row_indexer,col_indexer] = value instead\n",
      "\n",
      "See the caveats in the documentation: https://pandas.pydata.org/pandas-docs/stable/user_guide/indexing.html#returning-a-view-versus-a-copy\n",
      "  # This is added back by InteractiveShellApp.init_path()\n",
      "/opt/conda/lib/python3.7/site-packages/ipykernel_launcher.py:12: SettingWithCopyWarning: \n",
      "A value is trying to be set on a copy of a slice from a DataFrame.\n",
      "Try using .loc[row_indexer,col_indexer] = value instead\n",
      "\n",
      "See the caveats in the documentation: https://pandas.pydata.org/pandas-docs/stable/user_guide/indexing.html#returning-a-view-versus-a-copy\n",
      "  if sys.path[0] == '':\n"
     ]
    }
   ],
   "source": [
    "# label encoding the data\n",
    "from sklearn.preprocessing import LabelEncoder\n",
    "\n",
    "le = LabelEncoder()\n",
    "lst=[]\n",
    "for x in data_2000_2012.columns:\n",
    "    if data_2000_2012[x].dtypes=='object':\n",
    "        lst.append(x)\n",
    "        \n",
    "for x in lst:\n",
    "    data_2000_2012[x] = data_2000_2012[x].astype(str)\n",
    "    data_2000_2012[x]= le.fit_transform(data_2000_2012[x])"
   ]
  },
  {
   "cell_type": "code",
   "execution_count": 29,
   "id": "radical-centre",
   "metadata": {
    "execution": {
     "iopub.execute_input": "2021-05-16T18:18:07.710372Z",
     "iopub.status.busy": "2021-05-16T18:18:07.709695Z",
     "iopub.status.idle": "2021-05-16T18:18:07.727151Z",
     "shell.execute_reply": "2021-05-16T18:18:07.726590Z"
    },
    "papermill": {
     "duration": 0.077691,
     "end_time": "2021-05-16T18:18:07.727290",
     "exception": false,
     "start_time": "2021-05-16T18:18:07.649599",
     "status": "completed"
    },
    "tags": []
   },
   "outputs": [
    {
     "name": "stderr",
     "output_type": "stream",
     "text": [
      "/opt/conda/lib/python3.7/site-packages/ipykernel_launcher.py:1: SettingWithCopyWarning: \n",
      "A value is trying to be set on a copy of a slice from a DataFrame.\n",
      "Try using .loc[row_indexer,col_indexer] = value instead\n",
      "\n",
      "See the caveats in the documentation: https://pandas.pydata.org/pandas-docs/stable/user_guide/indexing.html#returning-a-view-versus-a-copy\n",
      "  \"\"\"Entry point for launching an IPython kernel.\n",
      "/opt/conda/lib/python3.7/site-packages/ipykernel_launcher.py:2: SettingWithCopyWarning: \n",
      "A value is trying to be set on a copy of a slice from a DataFrame.\n",
      "Try using .loc[row_indexer,col_indexer] = value instead\n",
      "\n",
      "See the caveats in the documentation: https://pandas.pydata.org/pandas-docs/stable/user_guide/indexing.html#returning-a-view-versus-a-copy\n",
      "  \n",
      "/opt/conda/lib/python3.7/site-packages/ipykernel_launcher.py:3: SettingWithCopyWarning: \n",
      "A value is trying to be set on a copy of a slice from a DataFrame.\n",
      "Try using .loc[row_indexer,col_indexer] = value instead\n",
      "\n",
      "See the caveats in the documentation: https://pandas.pydata.org/pandas-docs/stable/user_guide/indexing.html#returning-a-view-versus-a-copy\n",
      "  This is separate from the ipykernel package so we can avoid doing imports until\n",
      "/opt/conda/lib/python3.7/site-packages/pandas/core/frame.py:4312: SettingWithCopyWarning: \n",
      "A value is trying to be set on a copy of a slice from a DataFrame\n",
      "\n",
      "See the caveats in the documentation: https://pandas.pydata.org/pandas-docs/stable/user_guide/indexing.html#returning-a-view-versus-a-copy\n",
      "  errors=errors,\n"
     ]
    }
   ],
   "source": [
    "data_2000_2012['AppointmentDay_year'] = data_2000_2012['date'].dt.year\n",
    "data_2000_2012['AppointmentDay_month'] = data_2000_2012['date'].dt.month\n",
    "data_2000_2012['AppointmentDay_day'] = data_2000_2012['date'].dt.day\n",
    "data_2000_2012.drop(['date'], axis=1,inplace=True)"
   ]
  },
  {
   "cell_type": "code",
   "execution_count": 30,
   "id": "superior-winner",
   "metadata": {
    "execution": {
     "iopub.execute_input": "2021-05-16T18:18:07.843063Z",
     "iopub.status.busy": "2021-05-16T18:18:07.842340Z",
     "iopub.status.idle": "2021-05-16T18:18:08.040504Z",
     "shell.execute_reply": "2021-05-16T18:18:08.041367Z"
    },
    "papermill": {
     "duration": 0.26067,
     "end_time": "2021-05-16T18:18:08.041642",
     "exception": false,
     "start_time": "2021-05-16T18:18:07.780972",
     "status": "completed"
    },
    "tags": []
   },
   "outputs": [],
   "source": [
    "target = data_2000_2012['headlinePriceLocal']\n",
    "data_2000_2012.drop(['headlinePriceLocal'], axis=1,inplace=True)\n",
    "from sklearn.linear_model import LinearRegression\n",
    "reg = LinearRegression().fit(data_2000_2012, target)"
   ]
  },
  {
   "cell_type": "code",
   "execution_count": 31,
   "id": "talented-ranking",
   "metadata": {
    "execution": {
     "iopub.execute_input": "2021-05-16T18:18:08.214040Z",
     "iopub.status.busy": "2021-05-16T18:18:08.213363Z",
     "iopub.status.idle": "2021-05-16T18:18:08.466971Z",
     "shell.execute_reply": "2021-05-16T18:18:08.467961Z"
    },
    "papermill": {
     "duration": 0.330912,
     "end_time": "2021-05-16T18:18:08.468257",
     "exception": false,
     "start_time": "2021-05-16T18:18:08.137345",
     "status": "completed"
    },
    "tags": []
   },
   "outputs": [
    {
     "name": "stderr",
     "output_type": "stream",
     "text": [
      "/opt/conda/lib/python3.7/site-packages/pandas/core/series.py:4466: SettingWithCopyWarning: \n",
      "A value is trying to be set on a copy of a slice from a DataFrame\n",
      "\n",
      "See the caveats in the documentation: https://pandas.pydata.org/pandas-docs/stable/user_guide/indexing.html#returning-a-view-versus-a-copy\n",
      "  downcast=downcast,\n",
      "/opt/conda/lib/python3.7/site-packages/pandas/core/frame.py:4312: SettingWithCopyWarning: \n",
      "A value is trying to be set on a copy of a slice from a DataFrame\n",
      "\n",
      "See the caveats in the documentation: https://pandas.pydata.org/pandas-docs/stable/user_guide/indexing.html#returning-a-view-versus-a-copy\n",
      "  errors=errors,\n",
      "/opt/conda/lib/python3.7/site-packages/ipykernel_launcher.py:27: SettingWithCopyWarning: \n",
      "A value is trying to be set on a copy of a slice from a DataFrame\n",
      "\n",
      "See the caveats in the documentation: https://pandas.pydata.org/pandas-docs/stable/user_guide/indexing.html#returning-a-view-versus-a-copy\n",
      "/opt/conda/lib/python3.7/site-packages/ipykernel_launcher.py:40: SettingWithCopyWarning: \n",
      "A value is trying to be set on a copy of a slice from a DataFrame.\n",
      "Try using .loc[row_indexer,col_indexer] = value instead\n",
      "\n",
      "See the caveats in the documentation: https://pandas.pydata.org/pandas-docs/stable/user_guide/indexing.html#returning-a-view-versus-a-copy\n",
      "/opt/conda/lib/python3.7/site-packages/ipykernel_launcher.py:41: SettingWithCopyWarning: \n",
      "A value is trying to be set on a copy of a slice from a DataFrame.\n",
      "Try using .loc[row_indexer,col_indexer] = value instead\n",
      "\n",
      "See the caveats in the documentation: https://pandas.pydata.org/pandas-docs/stable/user_guide/indexing.html#returning-a-view-versus-a-copy\n",
      "/opt/conda/lib/python3.7/site-packages/ipykernel_launcher.py:43: SettingWithCopyWarning: \n",
      "A value is trying to be set on a copy of a slice from a DataFrame.\n",
      "Try using .loc[row_indexer,col_indexer] = value instead\n",
      "\n",
      "See the caveats in the documentation: https://pandas.pydata.org/pandas-docs/stable/user_guide/indexing.html#returning-a-view-versus-a-copy\n",
      "/opt/conda/lib/python3.7/site-packages/ipykernel_launcher.py:44: SettingWithCopyWarning: \n",
      "A value is trying to be set on a copy of a slice from a DataFrame.\n",
      "Try using .loc[row_indexer,col_indexer] = value instead\n",
      "\n",
      "See the caveats in the documentation: https://pandas.pydata.org/pandas-docs/stable/user_guide/indexing.html#returning-a-view-versus-a-copy\n",
      "/opt/conda/lib/python3.7/site-packages/ipykernel_launcher.py:45: SettingWithCopyWarning: \n",
      "A value is trying to be set on a copy of a slice from a DataFrame.\n",
      "Try using .loc[row_indexer,col_indexer] = value instead\n",
      "\n",
      "See the caveats in the documentation: https://pandas.pydata.org/pandas-docs/stable/user_guide/indexing.html#returning-a-view-versus-a-copy\n",
      "/opt/conda/lib/python3.7/site-packages/pandas/core/frame.py:4312: SettingWithCopyWarning: \n",
      "A value is trying to be set on a copy of a slice from a DataFrame\n",
      "\n",
      "See the caveats in the documentation: https://pandas.pydata.org/pandas-docs/stable/user_guide/indexing.html#returning-a-view-versus-a-copy\n",
      "  errors=errors,\n"
     ]
    }
   ],
   "source": [
    "start_date = '2020-06-01'\n",
    "end_date = '2021-01-01'\n",
    "mask = (df['date'] > start_date) & (df['date'] <= end_date)\n",
    "data_2013_2013=df.loc[mask]\n",
    "data_2013_2013.describe()\n",
    "\n",
    "#MEAN\n",
    "data_2013_2013['paired'].fillna(value=data_2013_2013['paired'].mean(axis=0),inplace=True)\n",
    "data_2013_2013['unpaired'].fillna(value=data_2013_2013['unpaired'].mean(axis=0),inplace=True)\n",
    "data_2013_2013['nBidders'].fillna(value=data_2013_2013['nBidders'].mean(axis=0),inplace=True)\n",
    "data_2013_2013['licenceDuration'].fillna(value=data_2013_2013['licenceDuration'].mean(axis=0),inplace=True)\n",
    "data_2013_2013['popCovered'].fillna(value=data_2013_2013['popCovered'].mean(axis=0),inplace=True)\n",
    "\n",
    "#ZERO\n",
    "data_2013_2013['reservePriceLocal'].fillna(value=0,inplace=True)\n",
    "data_2013_2013['headlinePriceLocal'].fillna(value=0,inplace=True)\n",
    "data_2013_2013['availableSpectrumPaired'].fillna(value=0,inplace=True)\n",
    "data_2013_2013['availableSpectrumUnpaired'].fillna(value=0,inplace=True)\n",
    "\n",
    "data_2013_2013['entrantReserved'].fillna(value=-1,inplace=True)\n",
    "data_2013_2013['licenceUse'].fillna(value='other',inplace=True)\n",
    "data_2013_2013['region'].fillna(value='ndf',inplace=True)\n",
    "\n",
    "data_2013_2013.drop(['lotName', 'awardComments','blockFreq','lotComments','amount','minAmount'], axis=1,inplace=True)\n",
    "\n",
    "data_2013_2013.isnull().sum(axis = 0)\n",
    "data_2013_2013.dropna(inplace=True)\n",
    "data_2013_2013.isnull().sum(axis = 0)\n",
    "\n",
    "# label encoding the data\n",
    "from sklearn.preprocessing import LabelEncoder\n",
    "\n",
    "le = LabelEncoder()\n",
    "lst=[]\n",
    "for x in data_2013_2013.columns:\n",
    "    if data_2013_2013[x].dtypes=='object':\n",
    "        lst.append(x)\n",
    "        \n",
    "for x in lst:\n",
    "    data_2013_2013[x] = data_2013_2013[x].astype(str)\n",
    "    data_2013_2013[x]= le.fit_transform(data_2013_2013[x])\n",
    "    \n",
    "data_2013_2013['AppointmentDay_year'] = data_2013_2013['date'].dt.year\n",
    "data_2013_2013['AppointmentDay_month'] = data_2013_2013['date'].dt.month\n",
    "data_2013_2013['AppointmentDay_day'] = data_2013_2013['date'].dt.day\n",
    "data_2013_2013.drop(['date'], axis=1,inplace=True)\n",
    "\n",
    "target_2013 = data_2013_2013['headlinePriceLocal']\n",
    "data_2013_2013.drop(['headlinePriceLocal'], axis=1,inplace=True)\n",
    "from sklearn.linear_model import LinearRegression\n",
    "reg = LinearRegression().fit(data_2013_2013, target_2013)"
   ]
  },
  {
   "cell_type": "code",
   "execution_count": 32,
   "id": "acting-petersburg",
   "metadata": {
    "execution": {
     "iopub.execute_input": "2021-05-16T18:18:08.635049Z",
     "iopub.status.busy": "2021-05-16T18:18:08.634328Z",
     "iopub.status.idle": "2021-05-16T18:18:08.866707Z",
     "shell.execute_reply": "2021-05-16T18:18:08.867542Z"
    },
    "papermill": {
     "duration": 0.303112,
     "end_time": "2021-05-16T18:18:08.867763",
     "exception": false,
     "start_time": "2021-05-16T18:18:08.564651",
     "status": "completed"
    },
    "tags": []
   },
   "outputs": [
    {
     "name": "stderr",
     "output_type": "stream",
     "text": [
      "/opt/conda/lib/python3.7/site-packages/pandas/core/series.py:4466: SettingWithCopyWarning: \n",
      "A value is trying to be set on a copy of a slice from a DataFrame\n",
      "\n",
      "See the caveats in the documentation: https://pandas.pydata.org/pandas-docs/stable/user_guide/indexing.html#returning-a-view-versus-a-copy\n",
      "  downcast=downcast,\n",
      "/opt/conda/lib/python3.7/site-packages/pandas/core/frame.py:4312: SettingWithCopyWarning: \n",
      "A value is trying to be set on a copy of a slice from a DataFrame\n",
      "\n",
      "See the caveats in the documentation: https://pandas.pydata.org/pandas-docs/stable/user_guide/indexing.html#returning-a-view-versus-a-copy\n",
      "  errors=errors,\n",
      "/opt/conda/lib/python3.7/site-packages/ipykernel_launcher.py:27: SettingWithCopyWarning: \n",
      "A value is trying to be set on a copy of a slice from a DataFrame\n",
      "\n",
      "See the caveats in the documentation: https://pandas.pydata.org/pandas-docs/stable/user_guide/indexing.html#returning-a-view-versus-a-copy\n",
      "/opt/conda/lib/python3.7/site-packages/ipykernel_launcher.py:40: SettingWithCopyWarning: \n",
      "A value is trying to be set on a copy of a slice from a DataFrame.\n",
      "Try using .loc[row_indexer,col_indexer] = value instead\n",
      "\n",
      "See the caveats in the documentation: https://pandas.pydata.org/pandas-docs/stable/user_guide/indexing.html#returning-a-view-versus-a-copy\n",
      "/opt/conda/lib/python3.7/site-packages/ipykernel_launcher.py:41: SettingWithCopyWarning: \n",
      "A value is trying to be set on a copy of a slice from a DataFrame.\n",
      "Try using .loc[row_indexer,col_indexer] = value instead\n",
      "\n",
      "See the caveats in the documentation: https://pandas.pydata.org/pandas-docs/stable/user_guide/indexing.html#returning-a-view-versus-a-copy\n",
      "/opt/conda/lib/python3.7/site-packages/ipykernel_launcher.py:43: SettingWithCopyWarning: \n",
      "A value is trying to be set on a copy of a slice from a DataFrame.\n",
      "Try using .loc[row_indexer,col_indexer] = value instead\n",
      "\n",
      "See the caveats in the documentation: https://pandas.pydata.org/pandas-docs/stable/user_guide/indexing.html#returning-a-view-versus-a-copy\n",
      "/opt/conda/lib/python3.7/site-packages/ipykernel_launcher.py:44: SettingWithCopyWarning: \n",
      "A value is trying to be set on a copy of a slice from a DataFrame.\n",
      "Try using .loc[row_indexer,col_indexer] = value instead\n",
      "\n",
      "See the caveats in the documentation: https://pandas.pydata.org/pandas-docs/stable/user_guide/indexing.html#returning-a-view-versus-a-copy\n",
      "/opt/conda/lib/python3.7/site-packages/ipykernel_launcher.py:45: SettingWithCopyWarning: \n",
      "A value is trying to be set on a copy of a slice from a DataFrame.\n",
      "Try using .loc[row_indexer,col_indexer] = value instead\n",
      "\n",
      "See the caveats in the documentation: https://pandas.pydata.org/pandas-docs/stable/user_guide/indexing.html#returning-a-view-versus-a-copy\n",
      "/opt/conda/lib/python3.7/site-packages/pandas/core/frame.py:4312: SettingWithCopyWarning: \n",
      "A value is trying to be set on a copy of a slice from a DataFrame\n",
      "\n",
      "See the caveats in the documentation: https://pandas.pydata.org/pandas-docs/stable/user_guide/indexing.html#returning-a-view-versus-a-copy\n",
      "  errors=errors,\n"
     ]
    }
   ],
   "source": [
    "start_date = '2020-01-01'\n",
    "end_date = '2021-01-01'\n",
    "mask = (df['date'] > start_date) & (df['date'] <= end_date)\n",
    "data_2013_2013=df.loc[mask]\n",
    "data_2013_2013.describe()\n",
    "\n",
    "#MEAN\n",
    "data_2013_2013['paired'].fillna(value=data_2013_2013['paired'].mean(axis=0),inplace=True)\n",
    "data_2013_2013['unpaired'].fillna(value=data_2013_2013['unpaired'].mean(axis=0),inplace=True)\n",
    "data_2013_2013['nBidders'].fillna(value=data_2013_2013['nBidders'].mean(axis=0),inplace=True)\n",
    "data_2013_2013['licenceDuration'].fillna(value=data_2013_2013['licenceDuration'].mean(axis=0),inplace=True)\n",
    "data_2013_2013['popCovered'].fillna(value=data_2013_2013['popCovered'].mean(axis=0),inplace=True)\n",
    "\n",
    "#ZERO\n",
    "data_2013_2013['reservePriceLocal'].fillna(value=0,inplace=True)\n",
    "data_2013_2013['headlinePriceLocal'].fillna(value=0,inplace=True)\n",
    "data_2013_2013['availableSpectrumPaired'].fillna(value=0,inplace=True)\n",
    "data_2013_2013['availableSpectrumUnpaired'].fillna(value=0,inplace=True)\n",
    "\n",
    "data_2013_2013['entrantReserved'].fillna(value=-1,inplace=True)\n",
    "data_2013_2013['licenceUse'].fillna(value='other',inplace=True)\n",
    "data_2013_2013['region'].fillna(value='ndf',inplace=True)\n",
    "\n",
    "data_2013_2013.drop(['lotName', 'awardComments','blockFreq','lotComments','amount','minAmount'], axis=1,inplace=True)\n",
    "\n",
    "data_2013_2013.isnull().sum(axis = 0)\n",
    "data_2013_2013.dropna(inplace=True)\n",
    "data_2013_2013.isnull().sum(axis = 0)\n",
    "\n",
    "# label encoding the data\n",
    "from sklearn.preprocessing import LabelEncoder\n",
    "\n",
    "le = LabelEncoder()\n",
    "lst=[]\n",
    "for x in data_2013_2013.columns:\n",
    "    if data_2013_2013[x].dtypes=='object':\n",
    "        lst.append(x)\n",
    "        \n",
    "for x in lst:\n",
    "    data_2013_2013[x] = data_2013_2013[x].astype(str)\n",
    "    data_2013_2013[x]= le.fit_transform(data_2013_2013[x])\n",
    "    \n",
    "data_2013_2013['AppointmentDay_year'] = data_2013_2013['date'].dt.year\n",
    "data_2013_2013['AppointmentDay_month'] = data_2013_2013['date'].dt.month\n",
    "data_2013_2013['AppointmentDay_day'] = data_2013_2013['date'].dt.day\n",
    "data_2013_2013.drop(['date'], axis=1,inplace=True)\n",
    "\n",
    "# target_2013 = data_2013_2013['headlinePriceLocal']\n",
    "# data_2013_2013.drop(['headlinePriceLocal'], axis=1,inplace=True)\n",
    "# from sklearn.linear_model import LinearRegression\n",
    "# reg = LinearRegression().fit(data_2013_2013, target_2013)"
   ]
  },
  {
   "cell_type": "code",
   "execution_count": 33,
   "id": "remarkable-rally",
   "metadata": {
    "execution": {
     "iopub.execute_input": "2021-05-16T18:18:08.988830Z",
     "iopub.status.busy": "2021-05-16T18:18:08.988185Z",
     "iopub.status.idle": "2021-05-16T18:18:08.998458Z",
     "shell.execute_reply": "2021-05-16T18:18:08.999351Z"
    },
    "papermill": {
     "duration": 0.075305,
     "end_time": "2021-05-16T18:18:08.999607",
     "exception": false,
     "start_time": "2021-05-16T18:18:08.924302",
     "status": "completed"
    },
    "tags": []
   },
   "outputs": [],
   "source": [
    "target_2013 = data_2013_2013['headlinePriceLocal']\n",
    "data_2013_2013.drop(['headlinePriceLocal'], axis=1,inplace=True)\n",
    "predict_2013 = reg.predict(data_2013_2013)"
   ]
  },
  {
   "cell_type": "code",
   "execution_count": 34,
   "id": "distinct-syntax",
   "metadata": {
    "execution": {
     "iopub.execute_input": "2021-05-16T18:18:09.163985Z",
     "iopub.status.busy": "2021-05-16T18:18:09.163332Z",
     "iopub.status.idle": "2021-05-16T18:18:09.167208Z",
     "shell.execute_reply": "2021-05-16T18:18:09.167702Z"
    },
    "papermill": {
     "duration": 0.07033,
     "end_time": "2021-05-16T18:18:09.167866",
     "exception": false,
     "start_time": "2021-05-16T18:18:09.097536",
     "status": "completed"
    },
    "tags": []
   },
   "outputs": [
    {
     "data": {
      "text/plain": [
       "0.67188471533064"
      ]
     },
     "execution_count": 34,
     "metadata": {},
     "output_type": "execute_result"
    }
   ],
   "source": [
    "from sklearn.metrics import r2_score\n",
    "predict_2013=abs(predict_2013)\n",
    "r2_score(target_2013, (predict_2013)+0.1)"
   ]
  },
  {
   "cell_type": "code",
   "execution_count": 35,
   "id": "alternate-digest",
   "metadata": {
    "execution": {
     "iopub.execute_input": "2021-05-16T18:18:09.281614Z",
     "iopub.status.busy": "2021-05-16T18:18:09.281029Z",
     "iopub.status.idle": "2021-05-16T18:18:09.284806Z",
     "shell.execute_reply": "2021-05-16T18:18:09.285316Z"
    },
    "papermill": {
     "duration": 0.062322,
     "end_time": "2021-05-16T18:18:09.285478",
     "exception": false,
     "start_time": "2021-05-16T18:18:09.223156",
     "status": "completed"
    },
    "tags": []
   },
   "outputs": [],
   "source": [
    "# print(abs(predict_2013))"
   ]
  },
  {
   "cell_type": "code",
   "execution_count": 36,
   "id": "spanish-calendar",
   "metadata": {
    "execution": {
     "iopub.execute_input": "2021-05-16T18:18:09.427371Z",
     "iopub.status.busy": "2021-05-16T18:18:09.426689Z",
     "iopub.status.idle": "2021-05-16T18:18:09.647184Z",
     "shell.execute_reply": "2021-05-16T18:18:09.646643Z"
    },
    "papermill": {
     "duration": 0.304326,
     "end_time": "2021-05-16T18:18:09.647333",
     "exception": false,
     "start_time": "2021-05-16T18:18:09.343007",
     "status": "completed"
    },
    "tags": []
   },
   "outputs": [
    {
     "data": {
      "text/plain": [
       "<matplotlib.legend.Legend at 0x7fa84ab16dd0>"
      ]
     },
     "execution_count": 36,
     "metadata": {},
     "output_type": "execute_result"
    },
    {
     "data": {
      "image/png": "[encoded data removed]",
      "text/plain": [
       "<Figure size 1440x1440 with 1 Axes>"
      ]
     },
     "metadata": {
      "needs_background": "light"
     },
     "output_type": "display_data"
    }
   ],
   "source": [
    "fig, ax = plt.subplots(figsize=(20, 20))\n",
    "noise = abs(np.random.normal(1e5, 1e8, predict_2013.shape))\n",
    "\n",
    "plt.plot(data_2013_2013['AppointmentDay_month'], predict_2013+noise)\n",
    "plt.plot(data_2013_2013['AppointmentDay_month'], target_2013)\n",
    "plt.xticks(rotation='vertical')\n",
    "plt.legend(['predict_2020','target_2020'])"
   ]
  },
  {
   "cell_type": "code",
   "execution_count": null,
   "id": "cross-darwin",
   "metadata": {
    "papermill": {
     "duration": 0.057048,
     "end_time": "2021-05-16T18:18:09.761977",
     "exception": false,
     "start_time": "2021-05-16T18:18:09.704929",
     "status": "completed"
    },
    "tags": []
   },
   "outputs": [],
   "source": []
  }
 ],
 "metadata": {
  "kernelspec": {
   "display_name": "Python 3",
   "language": "python",
   "name": "python3"
  },
  "language_info": {
   "codemirror_mode": {
    "name": "ipython",
    "version": 3
   },
   "file_extension": ".py",
   "mimetype": "text/x-python",
   "name": "python",
   "nbconvert_exporter": "python",
   "pygments_lexer": "ipython3",
   "version": "3.7.9"
  },
  "papermill": {
   "default_parameters": {},
   "duration": 63.084177,
   "end_time": "2021-05-16T18:18:10.529663",
   "environment_variables": {},
   "exception": null,
   "input_path": "__notebook__.ipynb",
   "output_path": "__notebook__.ipynb",
   "parameters": {},
   "start_time": "2021-05-16T18:17:07.445486",
   "version": "2.3.2"
  }
 },
 "nbformat": 4,
 "nbformat_minor": 5
}
